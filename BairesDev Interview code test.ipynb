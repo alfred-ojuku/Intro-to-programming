{
 "cells": [
  {
   "cell_type": "code",
   "execution_count": 5,
   "id": "e898de40",
   "metadata": {},
   "outputs": [
    {
     "data": {
      "text/plain": [
       "16"
      ]
     },
     "execution_count": 5,
     "metadata": {},
     "output_type": "execute_result"
    }
   ],
   "source": [
    "def solution(n):\n",
    "    string = str(n)\n",
    "    num_list = [int(x) for x in string]\n",
    "    if len(num_list) == 2:\n",
    "        sum = num_list[0] + num_list[1]\n",
    "        \n",
    "    return sum\n",
    "   \n",
    "    \n",
    "solution(79)"
   ]
  },
  {
   "cell_type": "code",
   "execution_count": 7,
   "id": "e73d70d3",
   "metadata": {},
   "outputs": [
    {
     "data": {
      "text/plain": [
       "[1, 0]"
      ]
     },
     "execution_count": 7,
     "metadata": {},
     "output_type": "execute_result"
    }
   ],
   "source": [
    "n = 10\n",
    "num_list = []\n",
    "string = str(10)\n",
    "for x in string:\n",
    "    x = int(x)\n",
    "    num_list.append(x)\n",
    "    \n",
    "num_list"
   ]
  },
  {
   "cell_type": "code",
   "execution_count": null,
   "id": "78bec40a",
   "metadata": {},
   "outputs": [],
   "source": []
  }
 ],
 "metadata": {
  "kernelspec": {
   "display_name": "Python 3 (ipykernel)",
   "language": "python",
   "name": "python3"
  },
  "language_info": {
   "codemirror_mode": {
    "name": "ipython",
    "version": 3
   },
   "file_extension": ".py",
   "mimetype": "text/x-python",
   "name": "python",
   "nbconvert_exporter": "python",
   "pygments_lexer": "ipython3",
   "version": "3.8.5"
  }
 },
 "nbformat": 4,
 "nbformat_minor": 5
}
