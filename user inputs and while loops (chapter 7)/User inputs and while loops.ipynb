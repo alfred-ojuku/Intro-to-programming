{
 "cells": [
  {
   "cell_type": "code",
   "execution_count": 3,
   "metadata": {},
   "outputs": [
    {
     "name": "stdout",
     "output_type": "stream",
     "text": [
      "What kind of car would you like? bmw\n",
      "\n",
      "Let me see if I can find you a Bmw\n"
     ]
    }
   ],
   "source": [
    "#try it myself \n",
    "\n",
    "message = \"What kind of car would you like? \"\n",
    "car = input(message)\n",
    "\n",
    "print(f\"\\nLet me see if I can find you a {car.title()}\")"
   ]
  },
  {
   "cell_type": "code",
   "execution_count": null,
   "metadata": {},
   "outputs": [],
   "source": [
    "#Parrot.py\n",
    "\n",
    "prompt = \"\\nTell me something and I'll repeat it after you.\"\n",
    "prompt += \"\\nEnter quit to end the program\\t\"\n",
    "\n",
    "#message = \"\"\n",
    "while True:\n",
    "    message = input(prompt)\n",
    "    if message == 'quit':\n",
    "        break\n",
    "    else:\n",
    "        print(message)"
   ]
  },
  {
   "cell_type": "code",
   "execution_count": 5,
   "metadata": {},
   "outputs": [
    {
     "name": "stdout",
     "output_type": "stream",
     "text": [
      "How many people are in your dinner group?4\n",
      "\n",
      "Your table is ready\n"
     ]
    }
   ],
   "source": [
    "#try it myself restaurant seating\n",
    "\n",
    "dinner_group = input(\"How many people are in your dinner group?\")\n",
    "\n",
    "dinner_group = int(dinner_group)\n",
    "\n",
    "if dinner_group > 8:\n",
    "    print(\"\\nYou'll have to wait for a table\")\n",
    "else:\n",
    "    print(\"\\nYour table is ready\")"
   ]
  },
  {
   "cell_type": "code",
   "execution_count": 10,
   "metadata": {},
   "outputs": [
    {
     "name": "stdout",
     "output_type": "stream",
     "text": [
      "Enter a number: 13\n",
      "\n",
      "13 is not a mutliple of 10\n"
     ]
    }
   ],
   "source": [
    "#try it myself multiples of ten\n",
    "\n",
    "num = input(\"Enter a number: \")\n",
    "\n",
    "num = int(num)\n",
    "\n",
    "if num % 10 == 0:\n",
    "    print(f\"\\n{num} is a multple of 10\")\n",
    "else:\n",
    "    print(f\"\\n{num} is not a mutliple of 10\")"
   ]
  },
  {
   "cell_type": "code",
   "execution_count": 4,
   "metadata": {},
   "outputs": [
    {
     "name": "stdout",
     "output_type": "stream",
     "text": [
      "1\n",
      "2\n",
      "3\n",
      "4\n",
      "5\n"
     ]
    }
   ],
   "source": [
    "#introducing while loops\n",
    "\n",
    "current_number = 1\n",
    "\n",
    "while current_number <= 5:\n",
    "    print(current_number)\n",
    "    current_number += 1"
   ]
  },
  {
   "cell_type": "code",
   "execution_count": 2,
   "metadata": {},
   "outputs": [
    {
     "name": "stdout",
     "output_type": "stream",
     "text": [
      "\n",
      "Tell me something and I'll repeat it after you.\n",
      "Enter quit to end the program\talfredd\n",
      "alfredd\n",
      "\n",
      "Tell me something and I'll repeat it after you.\n",
      "Enter quit to end the program\tkajd\n",
      "kajd\n",
      "\n",
      "Tell me something and I'll repeat it after you.\n",
      "Enter quit to end the program\tsjahfs\n",
      "sjahfs\n",
      "\n",
      "Tell me something and I'll repeat it after you.\n",
      "Enter quit to end the program\tquit\n"
     ]
    }
   ],
   "source": [
    "#parrot program using a flag\n",
    "\n",
    "prompt = \"\\nTell me something and I'll repeat it after you.\"\n",
    "prompt += \"\\nEnter quit to end the program\\t\"\n",
    "\n",
    "while True:\n",
    "    message = input(prompt)\n",
    "    \n",
    "    if message == 'quit':\n",
    "        #active = False\n",
    "        break\n",
    "    else:\n",
    "        print(message)\n",
    "        \n",
    "     \n"
   ]
  },
  {
   "cell_type": "code",
   "execution_count": 4,
   "metadata": {},
   "outputs": [
    {
     "name": "stdout",
     "output_type": "stream",
     "text": [
      "1\n",
      "3\n",
      "5\n",
      "7\n",
      "9\n"
     ]
    }
   ],
   "source": [
    "#counting.py\n",
    "\n",
    "current_number = 0\n",
    "\n",
    "while current_number < 10:\n",
    "    current_number += 1\n",
    "    if current_number % 2 == 0:\n",
    "        continue\n",
    "    else:\n",
    "        print(current_number)\n",
    "   \n",
    "        "
   ]
  },
  {
   "cell_type": "code",
   "execution_count": 6,
   "metadata": {},
   "outputs": [
    {
     "name": "stdout",
     "output_type": "stream",
     "text": [
      "Please enter your desired pizza topping\tmushroom\n",
      "I'll add mushroom topping to your pizza\n",
      "Please enter your desired pizza topping\textra cheese\n",
      "I'll add extra cheese topping to your pizza\n",
      "Please enter your desired pizza topping\tpepperoni\n",
      "I'll add pepperoni topping to your pizza\n",
      "Please enter your desired pizza topping\tquit\n"
     ]
    }
   ],
   "source": [
    "#try it myself pizza toppings \n",
    "\n",
    "prompt = \"Please enter your desired pizza topping\\t\"\n",
    "\n",
    "topping = \"\"\n",
    "while topping != 'quit':\n",
    "    topping = input(prompt)\n",
    "    if topping == 'quit':\n",
    "        break\n",
    "    else:\n",
    "        print(f\"I'll add {topping} topping to your pizza\\n\")"
   ]
  },
  {
   "cell_type": "code",
   "execution_count": 3,
   "metadata": {},
   "outputs": [
    {
     "name": "stdout",
     "output_type": "stream",
     "text": [
      "What's your age?\n",
      "5\n",
      "Your ticket price is $10\n",
      "\n",
      "What's your age?\n",
      "5\n",
      "Your ticket price is $10\n",
      "\n",
      "What's your age?\n",
      "6\n",
      "Your ticket price is $10\n",
      "\n",
      "What's your age?\n",
      "23\n",
      "Your ticket price is $15\n",
      "\n",
      "What's your age?\n",
      "cls\n"
     ]
    },
    {
     "ename": "ValueError",
     "evalue": "invalid literal for int() with base 10: 'cls'",
     "output_type": "error",
     "traceback": [
      "\u001b[1;31m---------------------------------------------------------------------------\u001b[0m",
      "\u001b[1;31mValueError\u001b[0m                                Traceback (most recent call last)",
      "\u001b[1;32m<ipython-input-3-bb874f76511b>\u001b[0m in \u001b[0;36m<module>\u001b[1;34m\u001b[0m\n\u001b[0;32m      5\u001b[0m \u001b[1;32mwhile\u001b[0m \u001b[1;32mTrue\u001b[0m\u001b[1;33m:\u001b[0m\u001b[1;33m\u001b[0m\u001b[1;33m\u001b[0m\u001b[0m\n\u001b[0;32m      6\u001b[0m     \u001b[0mage\u001b[0m \u001b[1;33m=\u001b[0m \u001b[0minput\u001b[0m\u001b[1;33m(\u001b[0m\u001b[0mprompt\u001b[0m\u001b[1;33m)\u001b[0m\u001b[1;33m\u001b[0m\u001b[1;33m\u001b[0m\u001b[0m\n\u001b[1;32m----> 7\u001b[1;33m     \u001b[0mage\u001b[0m \u001b[1;33m=\u001b[0m \u001b[0mint\u001b[0m\u001b[1;33m(\u001b[0m\u001b[0mage\u001b[0m\u001b[1;33m)\u001b[0m\u001b[1;33m\u001b[0m\u001b[1;33m\u001b[0m\u001b[0m\n\u001b[0m\u001b[0;32m      8\u001b[0m     \u001b[1;32mif\u001b[0m \u001b[0mage\u001b[0m \u001b[1;33m<\u001b[0m \u001b[1;36m3\u001b[0m\u001b[1;33m:\u001b[0m\u001b[1;33m\u001b[0m\u001b[1;33m\u001b[0m\u001b[0m\n\u001b[0;32m      9\u001b[0m         \u001b[0mprint\u001b[0m\u001b[1;33m(\u001b[0m\u001b[1;34mf\"Your ticket price is free\\n\"\u001b[0m\u001b[1;33m)\u001b[0m\u001b[1;33m\u001b[0m\u001b[1;33m\u001b[0m\u001b[0m\n",
      "\u001b[1;31mValueError\u001b[0m: invalid literal for int() with base 10: 'cls'"
     ]
    }
   ],
   "source": [
    "#try it myself movie tickets\n",
    "\n",
    "prompt = \"What's your age?\\n\"\n",
    "\n",
    "while True:\n",
    "    age = input(prompt)\n",
    "    age = int(age)\n",
    "    if age < 3:\n",
    "        print(f\"Your ticket price is free\\n\")\n",
    "    elif age <= 12:\n",
    "        print(f\"Your ticket price is $10\\n\")\n",
    "    elif age > 12:\n",
    "        print(f\"Your ticket price is $15\\n\")\n",
    "        \n"
   ]
  },
  {
   "cell_type": "code",
   "execution_count": 7,
   "metadata": {},
   "outputs": [
    {
     "name": "stdout",
     "output_type": "stream",
     "text": [
      "Please enter your desired pizza topping\tquit\n"
     ]
    }
   ],
   "source": [
    "#try it myself pizza toppings \n",
    "\n",
    "prompt = \"Please enter your desired pizza topping\\t\"\n",
    "\n",
    "active = True\n",
    "while active:\n",
    "    topping = input(prompt)\n",
    "    if topping == 'quit':\n",
    "        active = False\n",
    "    else:\n",
    "        print(f\"I'll add {topping} topping to your pizza\\n\")"
   ]
  },
  {
   "cell_type": "code",
   "execution_count": 2,
   "metadata": {},
   "outputs": [
    {
     "name": "stdout",
     "output_type": "stream",
     "text": [
      "['dog', 'cat', 'goldfish', 'cat', 'dog', 'rabbit']\n",
      "['dog', 'goldfish', 'dog', 'rabbit']\n"
     ]
    }
   ],
   "source": [
    "#pets.py\n",
    "\n",
    "pets = ['dog', 'cat', 'goldfish', 'cat', 'dog', 'rabbit',]\n",
    "\n",
    "print(pets)\n",
    "\n",
    "while 'cat' in pets:\n",
    "    pets.remove('cat')\n",
    "    \n",
    "print(pets)"
   ]
  },
  {
   "cell_type": "code",
   "execution_count": 4,
   "metadata": {},
   "outputs": [
    {
     "name": "stdout",
     "output_type": "stream",
     "text": [
      "\n",
      " What's your name?\talfred\n",
      "Which mountain would you like to climb some day?\teverest\n",
      "Would you like to let another person respond? (yes/no)yes\n",
      "\n",
      " What's your name?\ternest\n",
      "Which mountain would you like to climb some day?\tmt kenya\n",
      "Would you like to let another person respond? (yes/no)yes\n",
      "\n",
      " What's your name?\tsewe\n",
      "Which mountain would you like to climb some day?\tkilimanjaro\n",
      "Would you like to let another person respond? (yes/no)no\n",
      "\n",
      "__Poll results__\n",
      "Alfred would like to climb Everest\n",
      "Ernest would like to climb Mt Kenya\n",
      "Sewe would like to climb Kilimanjaro\n"
     ]
    }
   ],
   "source": [
    "#mountain poll.py\n",
    "\n",
    "responses = {}\n",
    "#setting a flag to indicate if the poll is active\n",
    "\n",
    "polling_active = True\n",
    "\n",
    "while polling_active:\n",
    "    #prompts for the person's name and response\n",
    "    name = input(\"\\n What's your name?\\t\")\n",
    "    response = input(\"Which mountain would you like to climb some day?\\t\")\n",
    "    \n",
    "    #store the response in a dictionary\n",
    "    responses[name] = response\n",
    "    \n",
    "    #finding if anyone else would like to take the poll\n",
    "    repeat = input(\"Would you like to let another person respond? (yes/no)\")\n",
    "    if repeat == 'no':\n",
    "        polling_active = False\n",
    "        \n",
    "#polling is complete, the results are now being shown\n",
    "print(\"\\n__Poll results__\")\n",
    "\n",
    "for name, response in responses.items():\n",
    "    print(f\"{name.title()} would like to climb {response.title()}\")"
   ]
  },
  {
   "cell_type": "code",
   "execution_count": 13,
   "metadata": {},
   "outputs": [
    {
     "name": "stdout",
     "output_type": "stream",
     "text": [
      "Your Guava juice is being made\n",
      "Your Pineapple juice is being made\n",
      "Your Orange juice is being made\n",
      "Your Passion juice is being made\n",
      "Your Mango juice is being made\n",
      "\n",
      "The following juices have been made:\n",
      "Guava juice\n",
      "Pineapple juice\n",
      "Orange juice\n",
      "Passion juice\n",
      "Mango juice\n"
     ]
    }
   ],
   "source": [
    "#try it myself (Deli)\n",
    "\n",
    "#a list of ordered sandwiches\n",
    "juice_orders = ['mango', 'passion', 'orange', 'pineapple', 'guava']\n",
    "\n",
    "#a list of finished sandwiches\n",
    "finished_juices = []\n",
    "\n",
    "#a while loop that will move the juice_oders to finished_juices\n",
    "\n",
    "while juice_orders:\n",
    "    current_juice = juice_orders.pop()\n",
    "    \n",
    "    print(f\"Your {current_juice.title()} juice is being made\")\n",
    "    \n",
    "    finished_juices.append(current_juice)\n",
    "    \n",
    "#printing all the juices that have been made\n",
    "print(\"\\nThe following juices have been made:\")\n",
    "for i in finished_juices:\n",
    "    print(f\"{i.title()} juice\")"
   ]
  },
  {
   "cell_type": "code",
   "execution_count": null,
   "metadata": {},
   "outputs": [],
   "source": [
    "#try it myself (No mango)\n",
    "juice_orders = ['mango', 'passion', 'orange','mango', 'guava', 'mango', 'pineapple']\n",
    "\n",
    "print(\"JuiceBox has run out of mango juice\")\n",
    "while 'mango' in juice_orders:\n",
    "    juice_orders.remove('mango')\n",
    "    \n",
    "print()"
   ]
  }
 ],
 "metadata": {
  "kernelspec": {
   "display_name": "Python 3",
   "language": "python",
   "name": "python3"
  },
  "language_info": {
   "codemirror_mode": {
    "name": "ipython",
    "version": 3
   },
   "file_extension": ".py",
   "mimetype": "text/x-python",
   "name": "python",
   "nbconvert_exporter": "python",
   "pygments_lexer": "ipython3",
   "version": "3.7.4"
  }
 },
 "nbformat": 4,
 "nbformat_minor": 2
}
