{
 "cells": [
  {
   "cell_type": "code",
   "execution_count": 9,
   "metadata": {},
   "outputs": [
    {
     "name": "stdout",
     "output_type": "stream",
     "text": [
      "Hello Alfred\n"
     ]
    }
   ],
   "source": [
    "#greeter.py\n",
    "\n",
    "def greet_user(username):\n",
    "    \"\"\"Displays a simple hello greeting\"\"\"\n",
    "    print(f\"Hello {username.title()}\")\n",
    "    \n",
    "greet_user('alfred')"
   ]
  },
  {
   "cell_type": "code",
   "execution_count": 13,
   "metadata": {},
   "outputs": [
    {
     "name": "stdout",
     "output_type": "stream",
     "text": [
      "\tI'll learn the following in this chapter\n",
      "1:Ways of passing information to functions.\n",
      "2:Learn how to write certain functions.\n",
      "3:Storing functions in seperate files called modules.\n"
     ]
    }
   ],
   "source": [
    "#try it myself\n",
    "\n",
    "def display_msg():\n",
    "    \"\"\"This function displays all the information that I'll learn in this chapter\"\"\"\n",
    "    msg = \"\\tI'll learn the following in this chapter\\n1:Ways of passing information to functions.\\n\"\n",
    "    msg += \"2:Learn how to write certain functions.\\n3:Storing functions in seperate files called modules.\"\n",
    "    print(msg)\n",
    "\n",
    "display_msg()"
   ]
  },
  {
   "cell_type": "code",
   "execution_count": 14,
   "metadata": {},
   "outputs": [
    {
     "name": "stdout",
     "output_type": "stream",
     "text": [
      "One of my favorite books is The Way Of Men\n"
     ]
    }
   ],
   "source": [
    "#try it myself favorite books\n",
    "\n",
    "def favorite_book(title):\n",
    "    \"\"\"This function prints a simple statement about the book argument\"\"\"\n",
    "    \n",
    "    print(f\"One of my favorite books is {title.title()}\")\n",
    "    \n",
    "    \n",
    "favorite_book('The way of men')"
   ]
  },
  {
   "cell_type": "code",
   "execution_count": 41,
   "metadata": {},
   "outputs": [
    {
     "ename": "TypeError",
     "evalue": "describe_pet() missing 1 required positional argument: 'pet_name'",
     "output_type": "error",
     "traceback": [
      "\u001b[1;31m---------------------------------------------------------------------------\u001b[0m",
      "\u001b[1;31mTypeError\u001b[0m                                 Traceback (most recent call last)",
      "\u001b[1;32m<ipython-input-41-43c7d8bfcc40>\u001b[0m in \u001b[0;36m<module>\u001b[1;34m\u001b[0m\n\u001b[0;32m      6\u001b[0m     \u001b[0mprint\u001b[0m\u001b[1;33m(\u001b[0m\u001b[1;34mf\"It's name is {pet_name.title()}.\"\u001b[0m\u001b[1;33m)\u001b[0m\u001b[1;33m\u001b[0m\u001b[1;33m\u001b[0m\u001b[0m\n\u001b[0;32m      7\u001b[0m \u001b[1;33m\u001b[0m\u001b[0m\n\u001b[1;32m----> 8\u001b[1;33m \u001b[0mdescribe_pet\u001b[0m\u001b[1;33m(\u001b[0m\u001b[1;33m)\u001b[0m\u001b[1;33m\u001b[0m\u001b[1;33m\u001b[0m\u001b[0m\n\u001b[0m",
      "\u001b[1;31mTypeError\u001b[0m: describe_pet() missing 1 required positional argument: 'pet_name'"
     ]
    }
   ],
   "source": [
    "#pet.py\n",
    "\n",
    "def describe_pet( pet_name, animal_type = 'dog'):\n",
    "    \"\"\"Displays information about the pet\"\"\"\n",
    "    print(f\"\\nI have a {animal_type}.\")\n",
    "    print(f\"It's name is {pet_name.title()}.\")\n",
    "    \n",
    "describe_pet(animal_type = 'hamster',pet_name = 'bosco')"
   ]
  },
  {
   "cell_type": "code",
   "execution_count": 6,
   "metadata": {},
   "outputs": [
    {
     "name": "stdout",
     "output_type": "stream",
     "text": [
      "Your shirt is medium size and the message that will be printed on it is I love kisumu.\n",
      "Your shirt is large size and the message that will be printed on it is transformers.\n"
     ]
    }
   ],
   "source": [
    "#try it myself\n",
    "\n",
    "def make_shirt(shirt_size, shirt_msg):\n",
    "    \"\"\"Prints the size of the shirt and the message printed on it\"\"\"\n",
    "    msg = f\"Your shirt is {shirt_size} size and the message\" \n",
    "    msg += f\" that will be printed on it is {shirt_msg}.\"\n",
    "    print(msg)\n",
    "    \n",
    "make_shirt('medium', 'I love kisumu')\n",
    "make_shirt(shirt_size = 'large', shirt_msg = 'transformers')"
   ]
  },
  {
   "cell_type": "code",
   "execution_count": 9,
   "metadata": {},
   "outputs": [
    {
     "name": "stdout",
     "output_type": "stream",
     "text": [
      "Your shirt is large size and the message that will be printed on it is I love python.\n",
      "Your shirt is medium size and the message that will be printed on it is I love python.\n",
      "Your shirt is small size and the message that will be printed on it is I love JS.\n"
     ]
    }
   ],
   "source": [
    "#try it myself\n",
    "\n",
    "def make_shirt(shirt_size = 'large', shirt_msg = 'I love python'):\n",
    "    \"\"\"Prints the size of the shirt and the message printed on it\"\"\"\n",
    "    msg = f\"Your shirt is {shirt_size} size and the message\" \n",
    "    msg += f\" that will be printed on it is {shirt_msg}.\"\n",
    "    print(msg)\n",
    "    \n",
    "make_shirt()\n",
    "make_shirt('medium')\n",
    "make_shirt('small', 'I love JS')"
   ]
  },
  {
   "cell_type": "code",
   "execution_count": 12,
   "metadata": {},
   "outputs": [
    {
     "name": "stdout",
     "output_type": "stream",
     "text": [
      "Nairobi is in Kenya\n",
      "Kisumu is in Kenya\n",
      "Lagos is in Nigeria\n"
     ]
    }
   ],
   "source": [
    "#Try it myself (cities)\n",
    "\n",
    "def describe_city(city_name, country = 'kenya'):\n",
    "    \"\"\"Prints a simple sentence\"\"\"\n",
    "    print(f\"{city_name.title()} is in {country.title()}\")\n",
    "    \n",
    "describe_city('nairobi')\n",
    "describe_city('kisumu')\n",
    "describe_city('lagos', 'nigeria')"
   ]
  },
  {
   "cell_type": "code",
   "execution_count": 20,
   "metadata": {},
   "outputs": [
    {
     "name": "stdout",
     "output_type": "stream",
     "text": [
      "Alfred Ojuku Okinyi\n"
     ]
    }
   ],
   "source": [
    "def get_formatted_name(first_name, last_name, middle_name = ''):\n",
    "    \"\"\"Returns full name neatly formatted\"\"\"\n",
    "    if middle_name:\n",
    "        full_name = f\"{first_name} {middle_name} {last_name}\"\n",
    "    else:\n",
    "        full_name = f\"{first_name} {last_name}\"\n",
    "        \n",
    "    return full_name.title()\n",
    "\n",
    "print(get_formatted_name('alfred', 'okinyi', 'ojuku'))"
   ]
  },
  {
   "cell_type": "code",
   "execution_count": 1,
   "metadata": {},
   "outputs": [
    {
     "name": "stdout",
     "output_type": "stream",
     "text": [
      "{'first': 'alfred', 'last': 'okinyi'}\n"
     ]
    }
   ],
   "source": [
    "#returns a dictionary\n",
    "\n",
    "def build_person(first_name, last_name):\n",
    "    \"\"\"Returns a dictionary of information about a person\"\"\"\n",
    "    person = {'first':first_name, 'last': last_name}\n",
    "    return person\n",
    "\n",
    "print(build_person('alfred', 'okinyi'))"
   ]
  },
  {
   "cell_type": "code",
   "execution_count": 2,
   "metadata": {},
   "outputs": [
    {
     "name": "stdout",
     "output_type": "stream",
     "text": [
      "Hello there\n",
      "It's about time\n",
      "Happy about the move\n",
      "Tomorrow is a new year\n"
     ]
    }
   ],
   "source": [
    "#try it myself\n",
    "\n",
    "def show_messages(messages):\n",
    "    \"\"\"Displays messages in a list\"\"\"\n",
    "    for message in messages:\n",
    "        print(f\"{message}\")\n",
    "        \n",
    "msgs = ['Hello there', \"It's about time\", 'Happy about the move', 'Tomorrow is a new year']\n",
    "show_messages(msgs)"
   ]
  },
  {
   "cell_type": "code",
   "execution_count": 9,
   "metadata": {},
   "outputs": [
    {
     "name": "stdout",
     "output_type": "stream",
     "text": [
      "Sending: Hello there\n",
      "Sending: It's about time\n",
      "Sending: Happy about the move\n",
      "Sending: Tomorrow is a new year\n",
      "\n",
      "These are the sent messages\n",
      "Hello there\n",
      "It's about time\n",
      "Happy about the move\n",
      "Tomorrow is a new year\n"
     ]
    }
   ],
   "source": [
    "#try it myself (sending messages)\n",
    "unsent_messages = ['Hello there', \"It's about time\", 'Happy about the move', 'Tomorrow is a new year']\n",
    "sent_messages = []\n",
    "\n",
    "def send_messages(messages):\n",
    "    \"\"\"Displays messages in a list\"\"\"\n",
    "    for message in messages:\n",
    "        print(f\"Sending: {message}\")\n",
    "        sent_messages.append(message)\n",
    "    print(\"\\nThese are the sent messages\")\n",
    "    for i in sent_messages:\n",
    "        print(i)\n",
    "        \n",
    "        \n",
    "send_messages(unsent_messages)"
   ]
  },
  {
   "cell_type": "code",
   "execution_count": 10,
   "metadata": {},
   "outputs": [
    {
     "name": "stdout",
     "output_type": "stream",
     "text": [
      "Sending: Hello there\n",
      "Sending: It's about time\n",
      "Sending: Happy about the move\n",
      "Sending: Tomorrow is a new year\n",
      "\n",
      "These are the sent messages\n",
      "Hello there\n",
      "It's about time\n",
      "Happy about the move\n",
      "Tomorrow is a new year\n"
     ]
    }
   ],
   "source": [
    "#try it myself (archived messages)\n",
    "\n",
    "unsent_messages = ['Hello there', \"It's about time\", 'Happy about the move', 'Tomorrow is a new year']\n",
    "sent_messages = []\n",
    "\n",
    "def send_messages(messages):\n",
    "    \"\"\"Displays messages in a list\"\"\"\n",
    "    for message in messages:\n",
    "        print(f\"Sending: {message}\")\n",
    "        sent_messages.append(message)\n",
    "    print(\"\\nThese are the sent messages\")\n",
    "    for i in sent_messages:\n",
    "        print(i)\n",
    "\n",
    "send_messages(unsent_messages[:])"
   ]
  },
  {
   "cell_type": "code",
   "execution_count": 19,
   "metadata": {},
   "outputs": [
    {
     "name": "stdout",
     "output_type": "stream",
     "text": [
      "<class 'set'>\n"
     ]
    }
   ],
   "source": [
    "D = {'alfred','ojuku','okinyi', 'ella', 'jay'}\n",
    "print(type(D))\n"
   ]
  },
  {
   "cell_type": "code",
   "execution_count": 20,
   "metadata": {},
   "outputs": [
    {
     "name": "stdout",
     "output_type": "stream",
     "text": [
      "{1, 'ella', 'ojuku', 'alfred', 'okinyi', 'jay'}\n"
     ]
    }
   ],
   "source": [
    "D.add(1)\n",
    "print(D)"
   ]
  },
  {
   "cell_type": "code",
   "execution_count": 26,
   "metadata": {},
   "outputs": [
    {
     "name": "stdout",
     "output_type": "stream",
     "text": [
      "[1, 2, 3, 4, 5, 6, 7, 8, 9, 10, 11, 12, 13, 14, 15, 16, 17, 18, 19]\n",
      "[1, 4, 7, 10, 13, 16, 19]\n",
      "[1, 4, 7, 10, 13, 16, 19]\n"
     ]
    }
   ],
   "source": [
    "ham = list(range(1,20))\n",
    "print(ham)\n",
    "print(ham[0::3])\n",
    "print(ham[0:20:3])"
   ]
  },
  {
   "cell_type": "code",
   "execution_count": 3,
   "metadata": {},
   "outputs": [
    {
     "name": "stdout",
     "output_type": "stream",
     "text": [
      "('peperoni', 'mushroom', 'extra cheese')\n",
      "('chicken',)\n"
     ]
    }
   ],
   "source": [
    "#Passing an arbitrary number of arguments\n",
    "def make_pizza(*toppings):\n",
    "    \"\"\"Prints the list of toppings that have been requested\"\"\"\n",
    "    print(toppings)\n",
    "    \n",
    "make_pizza(\"peperoni\", \"mushroom\", \"extra cheese\")\n",
    "make_pizza(\"chicken\")"
   ]
  },
  {
   "cell_type": "code",
   "execution_count": 13,
   "metadata": {},
   "outputs": [
    {
     "name": "stdout",
     "output_type": "stream",
     "text": [
      "\n",
      "Making large sized pizza with the following toppings\n",
      "- cheese\n",
      "- peperoni\n",
      "- chicken\n",
      "\n",
      "Making small sized pizza with the following topping\n",
      "- chicken\n"
     ]
    }
   ],
   "source": [
    "#mixing positional and arbitrary arguments\n",
    "def make_pizza(size, *toppings):\n",
    "    \"\"\"Summarizes the pizza we are about to make\"\"\"\n",
    "    if len(toppings) <= 1:\n",
    "        print(f\"\\nMaking {size} sized pizza with the following topping\")\n",
    "        for topping in toppings:\n",
    "            print(f\"- {topping}\")\n",
    "    else:\n",
    "        print(f\"\\nMaking {size} sized pizza with the following toppings\")\n",
    "        for topping in toppings:\n",
    "            print(f\"- {topping}\")\n",
    "\n",
    "make_pizza('large', 'cheese', 'peperoni', 'chicken')\n",
    "make_pizza('small', 'chicken')"
   ]
  },
  {
   "cell_type": "code",
   "execution_count": 17,
   "metadata": {},
   "outputs": [
    {
     "name": "stdout",
     "output_type": "stream",
     "text": [
      "{'location': 'kisumu', 'DOB': '15/11/1999', 'email': 'alfredokiniyi68@gmail.com', 'First name': 'alfred', 'Last name': 'okinyi'}\n"
     ]
    }
   ],
   "source": [
    "def build_profile(first, last, **user_info):\n",
    "    \"\"\"Build's a dictionary containing every information we know about the user\"\"\"\n",
    "    user_info['First name'] = first\n",
    "    user_info['Last name'] = last\n",
    "    return user_info\n",
    "\n",
    "user_profile = build_profile('alfred', 'okinyi', location = 'kisumu', DOB = '15/11/1999', \n",
    "                             email = 'alfredokiniyi68@gmail.com')\n",
    "\n",
    "print(user_profile)"
   ]
  },
  {
   "cell_type": "code",
   "execution_count": 22,
   "metadata": {},
   "outputs": [
    {
     "name": "stdout",
     "output_type": "stream",
     "text": [
      "\n",
      "A sandwich having the following has been ordered:\n",
      "-mayonnaise\n",
      "-jelly\n",
      "-mustard\n",
      "\n",
      "A sandwich having the following has been ordered:\n",
      "-mustard\n",
      "\n",
      "A sandwich having the following has been ordered:\n",
      "-fruit jam\n",
      "-hummus\n",
      "-sauce\n"
     ]
    }
   ],
   "source": [
    "#try it myself\n",
    "\n",
    "def make_sandwich(*items):\n",
    "    \"\"\"Prints the items a person wants on a sandwich\"\"\"\n",
    "    print('\\nA sandwich having the following has been ordered:')\n",
    "    for item in items:\n",
    "        print(f\"-{item}\")\n",
    "        \n",
    "make_sandwich('mayonnaise', 'jelly', 'mustard')\n",
    "make_sandwich('mustard')\n",
    "make_sandwich('fruit jam', 'hummus', 'sauce')\n",
    "    "
   ]
  },
  {
   "cell_type": "code",
   "execution_count": 23,
   "metadata": {},
   "outputs": [
    {
     "name": "stdout",
     "output_type": "stream",
     "text": [
      "{'color': 'blue', 'tow_package': True, 'Manufacturer': 'subaru', 'Model': 'outback'}\n"
     ]
    }
   ],
   "source": [
    "def make_car(manufacturer, model, **car_info):\n",
    "    \"\"\"Builds information about a car\"\"\"\n",
    "    car_info['Manufacturer'] = manufacturer\n",
    "    car_info['Model'] = model\n",
    "    return car_info\n",
    "\n",
    "car = make_car('subaru', 'outback', color='blue', tow_package=True)\n",
    "print(car)\n",
    "    "
   ]
  },
  {
   "cell_type": "code",
   "execution_count": 26,
   "metadata": {},
   "outputs": [
    {
     "name": "stdout",
     "output_type": "stream",
     "text": [
      "7 is greater than 4\n"
     ]
    }
   ],
   "source": [
    "def compare_two_numbers(num1, num2):\n",
    "    if num1 > num2:\n",
    "        print(f\"{num1} is greater than {num2}\")\n",
    "    else:\n",
    "        print(f\"{num1} is less than {num2}\")\n",
    "        \n",
    "compare_two_numbers(7,4)"
   ]
  },
  {
   "cell_type": "code",
   "execution_count": 31,
   "metadata": {},
   "outputs": [
    {
     "name": "stdout",
     "output_type": "stream",
     "text": [
      "[2, 3, 4, 5, 6]\n"
     ]
    }
   ],
   "source": [
    "numbers = list(range(1,6))\n",
    "added = []\n",
    "for number in numbers:\n",
    "    number = number + 1\n",
    "    added.append(number)\n",
    "    \n",
    "print(added)"
   ]
  },
  {
   "cell_type": "code",
   "execution_count": null,
   "metadata": {},
   "outputs": [],
   "source": []
  }
 ],
 "metadata": {
  "kernelspec": {
   "display_name": "Python 3",
   "language": "python",
   "name": "python3"
  },
  "language_info": {
   "codemirror_mode": {
    "name": "ipython",
    "version": 3
   },
   "file_extension": ".py",
   "mimetype": "text/x-python",
   "name": "python",
   "nbconvert_exporter": "python",
   "pygments_lexer": "ipython3",
   "version": "3.7.4"
  }
 },
 "nbformat": 4,
 "nbformat_minor": 2
}
