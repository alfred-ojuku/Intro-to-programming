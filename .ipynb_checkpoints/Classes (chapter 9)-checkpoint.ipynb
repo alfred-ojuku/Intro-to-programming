{
 "cells": [
  {
   "cell_type": "code",
   "execution_count": 12,
   "metadata": {},
   "outputs": [],
   "source": [
    "class Dog:\n",
    "    \"\"\"A simple attempt to model a dog\"\"\"\n",
    "    def __init__(self, name, age):\n",
    "        \"\"\"Initializes name and age attributes\"\"\"\n",
    "        self.name = name\n",
    "        self.age = age\n",
    "     \n",
    "    #a method used to simulate sitting in the class\n",
    "    def sit(self):\n",
    "        \"\"\"Simulate a dog sitting in response to a command\"\"\"\n",
    "        print(f\"{self.name} is now sitting.\")\n",
    "        \n",
    "    #a method used to simulate rolling in the class    \n",
    "    def roll_over(self):\n",
    "        \"\"\"Simulate rolling in response to a command\"\"\"\n",
    "        print(f\"{self.name} rolled over.\")"
   ]
  },
  {
   "cell_type": "code",
   "execution_count": 13,
   "metadata": {},
   "outputs": [],
   "source": [
    "#creating an instance in the Dog class\n",
    "\n",
    "my_dog = Dog('bosco', 6)"
   ]
  },
  {
   "cell_type": "code",
   "execution_count": 14,
   "metadata": {},
   "outputs": [
    {
     "name": "stdout",
     "output_type": "stream",
     "text": [
      "My dog is called Bosco.\n",
      "My dog's age is 6\n"
     ]
    }
   ],
   "source": [
    "#Accessing individual attributes of an instance (Dot notation) self.name or age\n",
    "\n",
    "print(f\"My dog is called {my_dog.name.title()}.\")\n",
    "print(f\"My dog's age is {my_dog.age}\")"
   ]
  },
  {
   "cell_type": "code",
   "execution_count": 15,
   "metadata": {},
   "outputs": [
    {
     "name": "stdout",
     "output_type": "stream",
     "text": [
      "bosco is now sitting.\n",
      "bosco rolled over.\n"
     ]
    }
   ],
   "source": [
    "#calling methods in the class\n",
    "\n",
    "my_dog.sit()\n",
    "my_dog.roll_over()"
   ]
  },
  {
   "cell_type": "code",
   "execution_count": 17,
   "metadata": {},
   "outputs": [],
   "source": [
    "#creating the second instance from the class Dog\n",
    "your_dog = Dog('ocampo', 8)"
   ]
  },
  {
   "cell_type": "code",
   "execution_count": 18,
   "metadata": {},
   "outputs": [
    {
     "name": "stdout",
     "output_type": "stream",
     "text": [
      "My dog is called Ocampo.\n",
      "My dog's age is 8\n"
     ]
    }
   ],
   "source": [
    "#accesing attributes\n",
    "print(f\"My dog is called {your_dog.name.title()}.\")\n",
    "print(f\"My dog's age is {your_dog.age}\")"
   ]
  },
  {
   "cell_type": "code",
   "execution_count": 19,
   "metadata": {},
   "outputs": [
    {
     "name": "stdout",
     "output_type": "stream",
     "text": [
      "ocampo is now sitting.\n",
      "ocampo rolled over.\n"
     ]
    }
   ],
   "source": [
    "#calling methods\n",
    "\n",
    "your_dog.sit()\n",
    "your_dog.roll_over()"
   ]
  },
  {
   "cell_type": "code",
   "execution_count": 41,
   "metadata": {},
   "outputs": [],
   "source": [
    "#try it myself\n",
    "\n",
    "#creating a class called user\n",
    "class User:\n",
    "    '''A simple attempt to represent user'''\n",
    "    def __init__(self, first_name, last_name, age, DOB):\n",
    "        \"\"\"Initializes the attributes\"\"\"\n",
    "        self.first_name = first_name\n",
    "        self.last_name = last_name\n",
    "        self.age  = age\n",
    "        self.DOB = DOB\n",
    "        \n",
    "    def describe_user(self):\n",
    "        \n",
    "        \"\"\"Prints user's information\"\"\"\n",
    "        full_name = f\"{self.first_name} {self.last_name}\"\n",
    "        print(f\"{full_name.title()}'s information\")\n",
    "        print(f\"-{self.first_name.title()}\\n-{self.last_name.title()}\\n-{self.age}\\n-{self.DOB}\")\n",
    "        \n",
    "    def greet_user(self):\n",
    "        \"\"\"A simple  function that greets a user\"\"\"\n",
    "       \n",
    "        print(f\"\\nHello {self.first_name.title()}\")\n",
    "    "
   ]
  },
  {
   "cell_type": "code",
   "execution_count": 42,
   "metadata": {},
   "outputs": [
    {
     "name": "stdout",
     "output_type": "stream",
     "text": [
      "Alfred Okinyi's information\n",
      "-Alfred\n",
      "-Okinyi\n",
      "-23\n",
      "-15/11/1999\n",
      "\n",
      "Hello Alfred\n"
     ]
    }
   ],
   "source": [
    "#creating an instance\n",
    "user1 = User('alfred', 'okinyi', 23, '15/11/1999')\n",
    "\n",
    "#applying methods to instances\n",
    "user1.describe_user()\n",
    "\n",
    "user1.greet_user()"
   ]
  },
  {
   "cell_type": "code",
   "execution_count": 43,
   "metadata": {},
   "outputs": [
    {
     "name": "stdout",
     "output_type": "stream",
     "text": [
      "Ernest Muuo's information\n",
      "-Ernest\n",
      "-Muuo\n",
      "-22\n",
      "-10/10/1999\n",
      "\n",
      "Hello Ernest\n"
     ]
    }
   ],
   "source": [
    "#creating the second instant\n",
    "user2 = User('ernest', 'muuo', 22, '10/10/1999')\n",
    "\n",
    "#applying methods to instances\n",
    "user2.describe_user()\n",
    "\n",
    "user2.greet_user()"
   ]
  },
  {
   "cell_type": "code",
   "execution_count": 17,
   "metadata": {},
   "outputs": [],
   "source": [
    "#the Car class\n",
    "class Car:\n",
    "    \"\"\"a simple attempt to represent a car\"\"\"\n",
    "    \n",
    "    def __init__(self, make, model, year):\n",
    "        \"\"\"Initializes attributes to describe a car\"\"\"\n",
    "        self.make = make\n",
    "        self.model = model\n",
    "        self.year = year\n",
    "        self.odometer_reading = 0\n",
    "        \n",
    "    def get_descriptive_name(self):\n",
    "        \"\"\"Return neatly formatted descriptive name\"\"\"\n",
    "        long_name = f\"{self.year} {self.make} {self.model}\"\n",
    "        return long_name.title()\n",
    "    \n",
    "    def read_odometer(self):\n",
    "        \"\"\"Prints a statement showing the car's mileage\"\"\"\n",
    "        print(f\"This car has {self.odometer_reading} miles on it\")\n",
    "        \n",
    "    def update_odometer(self, mileage):\n",
    "        \"\"\"Set the odometer reading to the given value.\n",
    "        Reject the change if it attempts to roll the odometer back.\"\"\"\n",
    "        \n",
    "        if mileage >= self.odometer_reading:\n",
    "            self.odometer_reading = mileage\n",
    "        else:\n",
    "            print(\"You can roll back odometer reading\")\n",
    "            \n",
    "    def increment_odometer(self, miles):\n",
    "        \"\"\"Add the given amount to the odometer reading\"\"\"\n",
    "        if miles > 0:\n",
    "            self.odometer_reading += miles\n",
    "        else:\n",
    "            print(\"You can't roll back the odometer\")\n",
    "        "
   ]
  },
  {
   "cell_type": "code",
   "execution_count": 18,
   "metadata": {},
   "outputs": [
    {
     "name": "stdout",
     "output_type": "stream",
     "text": [
      "2015 Mistubishi Evolution\n",
      "This car has 0 miles on it\n"
     ]
    }
   ],
   "source": [
    "#creating an instance\n",
    "my_new_car = Car('mistubishi', 'evolution', 2015)\n",
    "\n",
    "print(my_new_car.get_descriptive_name())\n",
    "my_new_car.read_odometer()"
   ]
  },
  {
   "cell_type": "code",
   "execution_count": 19,
   "metadata": {},
   "outputs": [
    {
     "name": "stdout",
     "output_type": "stream",
     "text": [
      "This car has 34000 miles on it\n"
     ]
    }
   ],
   "source": [
    "#modifying attribute values directly in an instance\n",
    "\n",
    "my_new_car.odometer_reading = 34000\n",
    "my_new_car.read_odometer()"
   ]
  },
  {
   "cell_type": "code",
   "execution_count": 20,
   "metadata": {},
   "outputs": [
    {
     "name": "stdout",
     "output_type": "stream",
     "text": [
      "This car has 40000 miles on it\n"
     ]
    }
   ],
   "source": [
    "#modifying attribute values through a method (Involves writing a function that does the update internally)\n",
    "my_new_car.update_odometer(40000)\n",
    "my_new_car.read_odometer()"
   ]
  },
  {
   "cell_type": "code",
   "execution_count": 21,
   "metadata": {},
   "outputs": [
    {
     "name": "stdout",
     "output_type": "stream",
     "text": [
      "This car has 50000 miles on it\n"
     ]
    }
   ],
   "source": [
    "#method update_odometer preventing roll back odometer reading\n",
    "my_new_car.update_odometer(50000)\n",
    "my_new_car.read_odometer()"
   ]
  },
  {
   "cell_type": "code",
   "execution_count": 23,
   "metadata": {},
   "outputs": [
    {
     "name": "stdout",
     "output_type": "stream",
     "text": [
      "This car has 51800 miles on it\n"
     ]
    }
   ],
   "source": [
    "my_new_car.increment_odometer(900)\n",
    "my_new_car.read_odometer()"
   ]
  },
  {
   "cell_type": "markdown",
   "metadata": {},
   "source": [
    "# try it myself excercise"
   ]
  },
  {
   "cell_type": "code",
   "execution_count": 8,
   "metadata": {},
   "outputs": [],
   "source": [
    "#try it myself\n",
    "\n",
    "#creating a class called User\n",
    "class User:\n",
    "    '''A simple attempt to represent user'''\n",
    "    def __init__(self, first_name, last_name, age, DOB):\n",
    "        \"\"\"Initializes the attributes\"\"\"\n",
    "        self.first_name = first_name\n",
    "        self.last_name = last_name\n",
    "        self.age  = age\n",
    "        self.DOB = DOB\n",
    "        self.login_attempt = 0\n",
    "        \n",
    "    def describe_user(self):\n",
    "        \"\"\"Prints user's information\"\"\"\n",
    "        full_name = f\"{self.first_name} {self.last_name}\"\n",
    "        print(f\"{full_name.title()}'s information\")\n",
    "        print(f\"-{self.first_name.title()}\\n-{self.last_name.title()}\\n-{self.age}\\n-{self.DOB}\")\n",
    "        \n",
    "    def greet_user(self):\n",
    "        \"\"\"A simple  function that greets a user\"\"\"\n",
    "        print(f\"\\nHello {self.first_name.title()}\")\n",
    "        \n",
    "    def increment_login_attempts(self,login):\n",
    "        \"\"\"Inrements login attempts\"\"\"\n",
    "        if login == 1:\n",
    "            self.login_attempt += login\n",
    "        else:\n",
    "            print(\"Logging in can't have a value more than one\")\n",
    "            \n",
    "    def reset_login_attempts(self):\n",
    "        if self.login_attempt > 0:\n",
    "            self.login_attempt = 0"
   ]
  },
  {
   "cell_type": "code",
   "execution_count": 24,
   "metadata": {},
   "outputs": [],
   "source": [
    "#creating an instance\n",
    "user1 = User('alfred', 'okinyi', 23, '15/11/1999')"
   ]
  },
  {
   "cell_type": "code",
   "execution_count": 28,
   "metadata": {},
   "outputs": [
    {
     "name": "stdout",
     "output_type": "stream",
     "text": [
      "4\n"
     ]
    }
   ],
   "source": [
    "#applying methods to instances\n",
    "user1.increment_login_attempts(1)\n",
    "print(user1.login_attempt)"
   ]
  },
  {
   "cell_type": "code",
   "execution_count": 30,
   "metadata": {},
   "outputs": [
    {
     "name": "stdout",
     "output_type": "stream",
     "text": [
      "0\n"
     ]
    }
   ],
   "source": [
    "#reseting the login attempts using the reset_login_attempts method\n",
    "user1.reset_login_attempts()\n",
    "print(user1.login_attempt)"
   ]
  },
  {
   "cell_type": "markdown",
   "metadata": {},
   "source": [
    "# Inheritence"
   ]
  },
  {
   "cell_type": "code",
   "execution_count": 65,
   "metadata": {},
   "outputs": [],
   "source": [
    "#modelling of an electric car which is just a specific type of car\n",
    "\n",
    "#the Car class\n",
    "class Car:\n",
    "    \"\"\"a simple attempt to represent a car\"\"\"\n",
    "    \n",
    "    def __init__(self, make, model, year):\n",
    "        \"\"\"Initializes attributes to describe a car\"\"\"\n",
    "        self.make = make\n",
    "        self.model = model\n",
    "        self.year = year\n",
    "        self.odometer_reading = 0\n",
    "        self.gas_tank = 16\n",
    "        \n",
    "    def get_descriptive_name(self):\n",
    "        \"\"\"Return neatly formatted descriptive name\"\"\"\n",
    "        long_name = f\"{self.year} {self.make} {self.model}\"\n",
    "        return long_name.title()\n",
    "    \n",
    "    def read_odometer(self):\n",
    "        \"\"\"Prints a statement showing the car's mileage\"\"\"\n",
    "        print(f\"This car has {self.odometer_reading} miles on it\")\n",
    "        \n",
    "    def update_odometer(self, mileage):\n",
    "        \"\"\"Set the odometer reading to the given value.\n",
    "        Reject the change if it attempts to roll the odometer back.\"\"\"\n",
    "        \n",
    "        if mileage >= self.odometer_reading:\n",
    "            self.odometer_reading = mileage\n",
    "        else:\n",
    "            print(\"You can roll back odometer reading\")\n",
    "            \n",
    "    def increment_odometer(self, miles):\n",
    "        \"\"\"Add the given amount to the odometer reading\"\"\"\n",
    "        if miles > 0:\n",
    "            self.odometer_reading += miles\n",
    "        else:\n",
    "            print(\"You can't roll back the odometer\")\n",
    "            \n",
    "    def gas_gallons(self):\n",
    "        \"\"\"Prints the cars gas tank gallons\"\"\"\n",
    "        print(f\"Most cars have {self.gas_tank} gallons gas tanks\")\n",
    "        \n",
    "class Battery:\n",
    "    \"\"\"A simple attempt to model the battery of a car\"\"\"\n",
    "    def __init__(self, battery_size=75):\n",
    "        \"\"\"Initializes battery attributes\"\"\"\n",
    "        self.battery_size = battery_size\n",
    "        \n",
    "    def describe_battery(self):\n",
    "        \"\"\"Print a statement describing the battery\"\"\"\n",
    "        print(f\"This car has a {self.battery_size} KWh battery\")\n",
    "    \n",
    "            \n",
    "class ElectricCar(Car):\n",
    "    \"\"\"Represents aspects of a car, specific to electric vehicles\"\"\"\n",
    "    def __init__ (self, make, model, year):\n",
    "        \"\"\"Initializes the attributes of the parent class\"\"\"\n",
    "        super().__init__(make, model, year)\n",
    "        self.battery = Battery()\n",
    "        #self.size_battery = 75\n",
    "        \n",
    "    #def describe_battery(self):\n",
    "        #\"\"\"Prints a statement describing the battery size\"\"\"\n",
    "        #print(f\"This car has a {self.size_battery} KWh battery\")\n",
    "    \n",
    "    def gas_gallons(self):\n",
    "        \"\"\"Electric cars doesn't have gas tanks\"\"\"\n",
    "        print(\"This car doesn't need a gas tank\")\n",
    "        "
   ]
  },
  {
   "cell_type": "code",
   "execution_count": 63,
   "metadata": {},
   "outputs": [
    {
     "name": "stdout",
     "output_type": "stream",
     "text": [
      "2020 Tesla Model S\n",
      "This car doesn't need a gas tank\n"
     ]
    }
   ],
   "source": [
    "#creating an instance from the child class\n",
    "tesla1 = ElectricCar('tesla', 'model s', 2020)\n",
    "print(tesla1.get_descriptive_name())\n",
    "tesla1.gas_gallons()"
   ]
  },
  {
   "cell_type": "code",
   "execution_count": 64,
   "metadata": {},
   "outputs": [
    {
     "ename": "AttributeError",
     "evalue": "'ElectricCar' object has no attribute 'describe_battery'",
     "output_type": "error",
     "traceback": [
      "\u001b[1;31m---------------------------------------------------------------------------\u001b[0m",
      "\u001b[1;31mAttributeError\u001b[0m                            Traceback (most recent call last)",
      "Cell \u001b[1;32mIn[64], line 2\u001b[0m\n\u001b[0;32m      1\u001b[0m \u001b[38;5;66;03m#using added attributes and methods in the child class\u001b[39;00m\n\u001b[1;32m----> 2\u001b[0m \u001b[43mtesla1\u001b[49m\u001b[38;5;241;43m.\u001b[39;49m\u001b[43mdescribe_battery\u001b[49m()\n",
      "\u001b[1;31mAttributeError\u001b[0m: 'ElectricCar' object has no attribute 'describe_battery'"
     ]
    }
   ],
   "source": [
    "#using added attributes and methods in the child class\n",
    "tesla1.describe_battery()"
   ]
  },
  {
   "cell_type": "code",
   "execution_count": null,
   "metadata": {},
   "outputs": [],
   "source": []
  },
  {
   "cell_type": "code",
   "execution_count": null,
   "metadata": {},
   "outputs": [],
   "source": []
  }
 ],
 "metadata": {
  "kernelspec": {
   "display_name": "Python 3 (ipykernel)",
   "language": "python",
   "name": "python3"
  },
  "language_info": {
   "codemirror_mode": {
    "name": "ipython",
    "version": 3
   },
   "file_extension": ".py",
   "mimetype": "text/x-python",
   "name": "python",
   "nbconvert_exporter": "python",
   "pygments_lexer": "ipython3",
   "version": "3.8.5"
  }
 },
 "nbformat": 4,
 "nbformat_minor": 2
}
