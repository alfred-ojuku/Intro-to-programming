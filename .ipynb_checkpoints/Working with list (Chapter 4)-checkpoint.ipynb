{
 "cells": [
  {
   "cell_type": "code",
   "execution_count": 23,
   "metadata": {},
   "outputs": [
    {
     "name": "stdout",
     "output_type": "stream",
     "text": [
      "Sewe you are invited to dinner\n",
      "\n",
      "Kb you are invited to dinner\n",
      "\n",
      "Ernest you are invited to dinner\n",
      "\n",
      "Chief you are invited to dinner\n",
      "\n",
      "Artogo you are invited to dinner\n",
      "\n",
      "Thank you everyone for the acceptance\n"
     ]
    }
   ],
   "source": [
    "Guests = ['sewe', 'kb', 'ernest', 'chief', 'artogo']\n",
    "for i in Guests:\n",
    "    msg = f'{i.title()} you are invited to dinner\\n'\n",
    "    print(msg)\n",
    "print(\"Thank you everyone for the acceptance\")"
   ]
  },
  {
   "cell_type": "code",
   "execution_count": 40,
   "metadata": {},
   "outputs": [
    {
     "name": "stdout",
     "output_type": "stream",
     "text": [
      "I love Beef\n",
      "I love Chicken\n",
      "I love Chapati\n",
      "I love Mud Fish\n",
      "I really love the foods mentioned above\n"
     ]
    }
   ],
   "source": [
    "f_foods = ['beef', 'chicken', 'chapati', 'mud fish']\n",
    "for i in f_foods:\n",
    "    msg = f'I love {i.title()}'\n",
    "    print(msg)\n",
    "print('I really love the foods mentioned above')"
   ]
  },
  {
   "cell_type": "code",
   "execution_count": 2,
   "metadata": {},
   "outputs": [
    {
     "name": "stdout",
     "output_type": "stream",
     "text": [
      "CONSIGNOR: SONA MACHINERY PVT LTD \n",
      "CONSIGNEE: FREJED ENGINEERING SERVICES LIMITED \n",
      "Nairobi-Kenya \n",
      "PKG 1 OF 550\n",
      "\n",
      "\n"
     ]
    }
   ],
   "source": [
    "for i in range(1, 2):\n",
    "    msg = f'CONSIGNOR: SONA MACHINERY PVT LTD \\nCONSIGNEE: FREJED ENGINEERING SERVICES LIMITED \\nNairobi-Kenya \\nPKG {i} OF 550\\n\\n'\n",
    "    print(msg)"
   ]
  },
  {
   "cell_type": "code",
   "execution_count": 46,
   "metadata": {},
   "outputs": [
    {
     "name": "stdout",
     "output_type": "stream",
     "text": [
      "0\n",
      "1\n",
      "2\n",
      "3\n",
      "4\n",
      "5\n"
     ]
    }
   ],
   "source": [
    "for i in range(6):\n",
    "    print(i)"
   ]
  },
  {
   "cell_type": "code",
   "execution_count": 48,
   "metadata": {},
   "outputs": [
    {
     "name": "stdout",
     "output_type": "stream",
     "text": [
      "[1, 2, 3, 4, 5]\n"
     ]
    }
   ],
   "source": [
    "numbers = list(range(1,6))\n",
    "print(numbers)"
   ]
  },
  {
   "cell_type": "code",
   "execution_count": 49,
   "metadata": {},
   "outputs": [
    {
     "name": "stdout",
     "output_type": "stream",
     "text": [
      "[1, 3, 5, 7, 9]\n"
     ]
    }
   ],
   "source": [
    "odd_num = list(range(1,11,2))\n",
    "print(odd_num)"
   ]
  },
  {
   "cell_type": "code",
   "execution_count": 2,
   "metadata": {},
   "outputs": [
    {
     "name": "stdout",
     "output_type": "stream",
     "text": [
      "[1, 4, 9, 16, 25, 36, 49, 64, 81, 100]\n",
      "100\n",
      "1\n",
      "385\n"
     ]
    }
   ],
   "source": [
    "cubics = []\n",
    "for i in range(1,11):\n",
    "    cubics.append(i**2)\n",
    "print(cubics)\n",
    "print(max(cubics))\n",
    "print(min(cubics))\n",
    "print(sum(cubics))"
   ]
  },
  {
   "cell_type": "code",
   "execution_count": 4,
   "metadata": {},
   "outputs": [
    {
     "name": "stdout",
     "output_type": "stream",
     "text": [
      "[1, 8, 27, 64, 125, 216, 343, 512, 729, 1000]\n"
     ]
    }
   ],
   "source": [
    "#list comprehension\n",
    "cubics = [i**3 for i in range(1,11)]\n",
    "print(cubics)"
   ]
  },
  {
   "cell_type": "code",
   "execution_count": 11,
   "metadata": {},
   "outputs": [
    {
     "name": "stdout",
     "output_type": "stream",
     "text": [
      "1\n",
      "2\n",
      "3\n",
      "4\n",
      "5\n",
      "6\n",
      "7\n",
      "8\n",
      "9\n",
      "10\n",
      "11\n",
      "12\n",
      "13\n",
      "14\n",
      "15\n",
      "16\n",
      "17\n",
      "18\n",
      "19\n",
      "20\n"
     ]
    }
   ],
   "source": [
    "#try it myself exercise\n",
    "#1 count from one to 20\n",
    "for i in range(1,21):\n",
    "    print(i)\n",
    "    \n",
    "\n",
    "\n"
   ]
  },
  {
   "cell_type": "code",
   "execution_count": 10,
   "metadata": {},
   "outputs": [
    {
     "name": "stdout",
     "output_type": "stream",
     "text": [
      "1000000\n",
      "1\n",
      "500000500000\n"
     ]
    }
   ],
   "source": [
    "#2list of one to one million\n",
    "one_million = list(range(1,1000001))\n",
    "print(max(one_million))\n",
    "print(min(one_million))\n",
    "print(sum(one_million))"
   ]
  },
  {
   "cell_type": "code",
   "execution_count": 13,
   "metadata": {},
   "outputs": [
    {
     "name": "stdout",
     "output_type": "stream",
     "text": [
      "[1, 3, 5, 7, 9, 11, 13, 15, 17, 19]\n"
     ]
    }
   ],
   "source": [
    "#list of odd numbers\n",
    "\n",
    "odd_nums = list(range(1,21,2))\n",
    "print(odd_nums)"
   ]
  },
  {
   "cell_type": "code",
   "execution_count": 1,
   "metadata": {},
   "outputs": [
    {
     "name": "stdout",
     "output_type": "stream",
     "text": [
      "[3, 6, 9, 12, 15, 18, 21, 24, 27, 30, 33, 36, 39, 42, 45, 48, 51, 54, 57, 60, 63, 66, 69, 72, 75, 78, 81, 84, 87]\n"
     ]
    }
   ],
   "source": [
    "#multiple of threes\n",
    "\n",
    "multi_threes =[]\n",
    "for i in range(1,30):\n",
    "    multi_threes.append(i*3)\n",
    "print(multi_threes)\n"
   ]
  },
  {
   "cell_type": "code",
   "execution_count": 21,
   "metadata": {},
   "outputs": [
    {
     "name": "stdout",
     "output_type": "stream",
     "text": [
      "[1, 8, 27, 64, 125, 216, 343, 512, 729]\n"
     ]
    }
   ],
   "source": [
    "#list of cubes of one to ten using list comprehesion\n",
    "\n",
    "cubes = [i**3 for i in range(1,10)]\n",
    "print(cubes)"
   ]
  },
  {
   "cell_type": "code",
   "execution_count": 31,
   "metadata": {},
   "outputs": [
    {
     "name": "stdout",
     "output_type": "stream",
     "text": [
      "['jesus', 'martinelli']\n",
      "['saka', 'odegard']\n",
      "['odegard', 'nketiah']\n"
     ]
    }
   ],
   "source": [
    "#working with a part of list\n",
    "\n",
    "players = ['saka', 'jesus', 'martinelli', 'odegard', 'nketiah']\n",
    "print(players[1:3])\n",
    "print(players[::3])\n",
    "print(players[3:])"
   ]
  },
  {
   "cell_type": "code",
   "execution_count": 32,
   "metadata": {},
   "outputs": [
    {
     "name": "stdout",
     "output_type": "stream",
     "text": [
      "Here are the first three players\n",
      "Saka\n",
      "Jesus\n",
      "Martinelli\n"
     ]
    }
   ],
   "source": [
    "print('Here are the first three players')\n",
    "for i in players[:3]:\n",
    "    print(i.title())"
   ]
  },
  {
   "cell_type": "code",
   "execution_count": 33,
   "metadata": {},
   "outputs": [
    {
     "name": "stdout",
     "output_type": "stream",
     "text": [
      "['saka', 'jesus', 'martinelli', 'odegard', 'nketiah']\n"
     ]
    }
   ],
   "source": [
    "#copying a list\n",
    "\n",
    "players = ['saka', 'jesus', 'martinelli', 'odegard', 'nketiah']\n",
    "\n",
    "forwards = players[:]\n",
    "print(forwards)"
   ]
  },
  {
   "cell_type": "code",
   "execution_count": 48,
   "metadata": {},
   "outputs": [
    {
     "name": "stdout",
     "output_type": "stream",
     "text": [
      "The first three players are:\n",
      "Saka\n",
      "Jesus\n",
      "Martinelli\n"
     ]
    }
   ],
   "source": [
    "#try it yourself exercise\n",
    "print('The first three players are:')\n",
    "for i in players[0:3]:\n",
    "    print(i.title())"
   ]
  },
  {
   "cell_type": "code",
   "execution_count": 49,
   "metadata": {},
   "outputs": [
    {
     "name": "stdout",
     "output_type": "stream",
     "text": [
      "Three players from the middle of the list are:\n",
      "Jesus\n",
      "Martinelli\n",
      "Odegard\n"
     ]
    }
   ],
   "source": [
    "print('Three players from the middle of the list are:')\n",
    "for i in players[1:4]:\n",
    "    print(i.title())"
   ]
  },
  {
   "cell_type": "code",
   "execution_count": 51,
   "metadata": {},
   "outputs": [
    {
     "name": "stdout",
     "output_type": "stream",
     "text": [
      "The last three players in the list are:\n",
      "Martinelli\n",
      "Odegard\n",
      "Nketiah\n"
     ]
    }
   ],
   "source": [
    "print('The last three players in the list are:')\n",
    "for i in players[2:]:\n",
    "    print(i.title())"
   ]
  },
  {
   "cell_type": "code",
   "execution_count": 62,
   "metadata": {},
   "outputs": [
    {
     "name": "stdout",
     "output_type": "stream",
     "text": [
      "My favorite foods are:\n",
      "beef\n",
      "rice\n",
      "pork\n",
      "chicken\n",
      "chapati\n",
      "omena\n",
      "\n",
      "\n",
      "My friends favorite foods are:\n",
      "beef\n",
      "rice\n",
      "pork\n",
      "chicken\n",
      "chapati\n",
      "pilau\n"
     ]
    }
   ],
   "source": [
    "fav_foods = ['beef', 'rice','pork','chicken','chapati']\n",
    "f_fav_foods = fav_foods[:]\n",
    "fav_foods.append('omena')\n",
    "f_fav_foods.append('pilau')\n",
    "print('My favorite foods are:')\n",
    "for i in fav_foods:\n",
    "    print(i)\n",
    "print('\\n')   \n",
    "print('My friends favorite foods are:')\n",
    "for i in f_fav_foods:\n",
    "    print(i)"
   ]
  },
  {
   "cell_type": "code",
   "execution_count": 65,
   "metadata": {},
   "outputs": [
    {
     "name": "stdout",
     "output_type": "stream",
     "text": [
      "(200, 50)\n"
     ]
    }
   ],
   "source": [
    "#tuples\n",
    "\n",
    "dimensions = (200, 50)\n",
    "print(dimensions)\n"
   ]
  },
  {
   "cell_type": "code",
   "execution_count": 67,
   "metadata": {},
   "outputs": [
    {
     "name": "stdout",
     "output_type": "stream",
     "text": [
      "Rice\n",
      "Beans\n",
      "Ugali\n",
      "Sukuma\n",
      "Beef\n"
     ]
    }
   ],
   "source": [
    "#try it myself tuples (buffet)\n",
    "buffet = ('rice', 'beans', 'ugali','sukuma','beef')\n",
    "for i in buffet:\n",
    "    print(i.title())"
   ]
  }
 ],
 "metadata": {
  "kernelspec": {
   "display_name": "Python 3 (ipykernel)",
   "language": "python",
   "name": "python3"
  },
  "language_info": {
   "codemirror_mode": {
    "name": "ipython",
    "version": 3
   },
   "file_extension": ".py",
   "mimetype": "text/x-python",
   "name": "python",
   "nbconvert_exporter": "python",
   "pygments_lexer": "ipython3",
   "version": "3.8.5"
  }
 },
 "nbformat": 4,
 "nbformat_minor": 2
}
