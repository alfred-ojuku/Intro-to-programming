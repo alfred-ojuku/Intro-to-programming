{
 "cells": [
  {
   "cell_type": "code",
   "execution_count": 5,
   "metadata": {},
   "outputs": [
    {
     "name": "stdout",
     "output_type": "stream",
     "text": [
      "You've just earned 5 points\n"
     ]
    }
   ],
   "source": [
    "alien_0 = {'color': 'green', 'points': 5}\n",
    "\n",
    "#If alien_0 is shot down\n",
    "\n",
    "new_points = alien_0['points']\n",
    "print(f\"You've just earned {new_points} points\")"
   ]
  },
  {
   "cell_type": "code",
   "execution_count": 7,
   "metadata": {},
   "outputs": [
    {
     "name": "stdout",
     "output_type": "stream",
     "text": [
      "{'color': 'green', 'points': 5, 'x-coordinate': 0, 'y-coordinate': 25}\n"
     ]
    }
   ],
   "source": [
    "#Adding new key-values to a dictionary\n",
    "\n",
    "alien_0 = {'color': 'green', 'points':5}\n",
    "\n",
    "alien_0['x-coordinate'] = 0\n",
    "alien_0['y-coordinate'] = 25\n",
    "\n",
    "print(alien_0)"
   ]
  },
  {
   "cell_type": "code",
   "execution_count": 12,
   "metadata": {},
   "outputs": [
    {
     "name": "stdout",
     "output_type": "stream",
     "text": [
      "3.7.4\n"
     ]
    }
   ],
   "source": [
    "#how to check python version\n",
    "from platform import python_version\n",
    "print(python_version())"
   ]
  },
  {
   "cell_type": "code",
   "execution_count": 1,
   "metadata": {},
   "outputs": [
    {
     "name": "stdout",
     "output_type": "stream",
     "text": [
      "{'color': 'green', 'points': 5}\n"
     ]
    }
   ],
   "source": [
    "#starting with an empty dictionary\n",
    "alien_0 = {}\n",
    "\n",
    "alien_0['color'] = 'green'\n",
    "alien_0['points'] = 5\n",
    "\n",
    "print(alien_0)"
   ]
  },
  {
   "cell_type": "code",
   "execution_count": 4,
   "metadata": {},
   "outputs": [
    {
     "name": "stdout",
     "output_type": "stream",
     "text": [
      "{'color': 'yellow', 'points': 5}\n"
     ]
    }
   ],
   "source": [
    "#modifying values in a dictionary\n",
    "alien_0['color'] = 'yellow'\n",
    "print(alien_0)"
   ]
  },
  {
   "cell_type": "code",
   "execution_count": 22,
   "metadata": {},
   "outputs": [
    {
     "name": "stdout",
     "output_type": "stream",
     "text": [
      "Original position: 0\n",
      "{'x_position': 0, 'y_position': 25, 'speed': 'medium'}\n",
      "New position: 3\n"
     ]
    }
   ],
   "source": [
    "alien_0 = {'x_position': 0, 'y_position': 25, 'speed':'medium'}\n",
    "print(f\"Original position: {alien_0['x_position']}\")\n",
    "\n",
    "print(alien_0)\n",
    "alien_0['speed'] = 'fast'\n",
    "#movement to the right\n",
    "#Determination of how far to move the alien based on the current speed\n",
    "if alien_0['speed'] == 'slow':\n",
    "      x_increment = 1\n",
    "elif alien_0['speed'] == 'medium':\n",
    "      x_increment = 2\n",
    "else:\n",
    "      x_increment = 3\n",
    "\n",
    "#new position is the old position plus the increment\n",
    "alien_0['x_position'] = alien_0['x_position'] + x_increment\n",
    "      \n",
    "print(f\"New position: {alien_0['x_position']}\")\n",
    "      "
   ]
  },
  {
   "cell_type": "code",
   "execution_count": 24,
   "metadata": {},
   "outputs": [
    {
     "name": "stdout",
     "output_type": "stream",
     "text": [
      "{'x_position': 3, 'y_position': 25, 'speed': 'fast'}\n",
      "{'x_position': 3, 'speed': 'fast'}\n"
     ]
    }
   ],
   "source": [
    "#removing key-value pairs\n",
    "print(alien_0)\n",
    "del alien_0['y_position']\n",
    "print(alien_0)"
   ]
  },
  {
   "cell_type": "code",
   "execution_count": 48,
   "metadata": {},
   "outputs": [
    {
     "name": "stdout",
     "output_type": "stream",
     "text": [
      "Alfred\n",
      "Sewe\n",
      "\tSewe, I see you love C\n",
      "Ernest\n",
      "\tErnest, I see you love Ruby\n",
      "Kb\n"
     ]
    }
   ],
   "source": [
    "#dictionary of similar objects\n",
    "favorite_languages = {\n",
    "    'alfred': 'python',\n",
    "    'sewe':'c',\n",
    "    'ernest': 'ruby',\n",
    "    'kb': 'HTML',\n",
    "    }\n",
    "#for name, language in favorite_languages.items():\n",
    "#   print(f\"{name.title()}'s favorite language is {language.title()}\\n\")\n",
    "friends = ['sewe', 'ernest']\n",
    "for name in favorite_languages:\n",
    "    print(f\"{name.title()}\")\n",
    "    \n",
    "    if name in friends:\n",
    "        language = favorite_languages[name].title()\n",
    "        print(f\"\\t{name.title()}, I see you love {language.title()}\")\n",
    "\n",
    "#if favorite_languages.get('alfre'):\n",
    "   # print(f\"Alfred's favorite programing language is {favorite_languages['alfred']} \")\n",
    "#else:\n",
    " #   print(\"The user doesn't exist\")\n"
   ]
  },
  {
   "cell_type": "code",
   "execution_count": 41,
   "metadata": {},
   "outputs": [
    {
     "name": "stdout",
     "output_type": "stream",
     "text": [
      "F_Name: george\n",
      "L_Name: sewe\n",
      "Age: 22\n",
      "City: Nairobi\n"
     ]
    }
   ],
   "source": [
    "#try it myself\n",
    "person = {\n",
    "    'f_name': 'george',\n",
    "    'l_name': 'sewe',\n",
    "    'age': 22,\n",
    "    'city': 'Nairobi',\n",
    "    }\n",
    "for k, v in person.items():\n",
    "    print(f\"{k.title()}: {v}\")"
   ]
  },
  {
   "cell_type": "code",
   "execution_count": 34,
   "metadata": {},
   "outputs": [
    {
     "name": "stdout",
     "output_type": "stream",
     "text": [
      "Sewe's favorite number is 5.\n",
      "\n",
      "Kb's favorite number is 67.\n",
      "\n",
      "Bor's favorite number is 34.\n",
      "\n",
      "Ernest's favorite number is 15.\n",
      "\n",
      "Antonine's favorite number is 6.\n",
      "\n"
     ]
    }
   ],
   "source": [
    "#favorite numbers\n",
    "\n",
    "f_numbers = {\n",
    "    'sewe': 5,\n",
    "    'kb': 67,\n",
    "    'bor': 34,\n",
    "    'ernest': 15,\n",
    "    'antonine': 6,\n",
    "    }\n",
    "for name, number in f_numbers.items():\n",
    "    print(f\"{name.title()}'s favorite number is {number}.\\n\")"
   ]
  },
  {
   "cell_type": "code",
   "execution_count": 1,
   "metadata": {},
   "outputs": [
    {
     "name": "stdout",
     "output_type": "stream",
     "text": [
      "Immutable \n",
      "\tSomething that cannot be changed\n",
      "\n",
      "Iterable \n",
      "\tCapable of being iterated\n",
      "\n",
      "Subtle \n",
      "\tDifficult to detect\n",
      "\n",
      "Modicum \n",
      "\tSmall amount\n",
      "\n",
      "Helluva \n",
      "\tHell of a\n",
      "\n",
      "Insidious \n",
      "\tSubtle\n",
      "\n",
      "Mollify \n",
      "\tGain the good will of\n",
      "\n",
      "Flank \n",
      "\twing\n",
      "\n",
      "Caricature \n",
      "\tImpersonation\n",
      "\n",
      "Oblivion \n",
      "\ttotal forgetfulness\n",
      "\n"
     ]
    }
   ],
   "source": [
    "vocab = {\n",
    "    'immutable': 'Something that cannot be changed',\n",
    "    'iterable': 'Capable of being iterated',\n",
    "    'subtle': 'Difficult to detect',\n",
    "    'modicum': 'Small amount',\n",
    "    'helluva': 'Hell of a',\n",
    "    'insidious': 'Subtle',\n",
    "    'mollify': 'Gain the good will of',\n",
    "    'flank': 'wing',\n",
    "    'caricature': 'Impersonation',\n",
    "    'oblivion': 'total forgetfulness'\n",
    "    }\n",
    "\n",
    "for k, v in vocab.items():\n",
    "    print(f\"{k.title()} \\n\\t{v}\\n\")\n",
    "  "
   ]
  },
  {
   "cell_type": "code",
   "execution_count": 57,
   "metadata": {},
   "outputs": [
    {
     "name": "stdout",
     "output_type": "stream",
     "text": [
      "Alfred, Thank you for taking the poll.\n",
      "\n",
      "Ernest, Thank you for taking the poll.\n",
      "\n",
      "Kb, Thank you for taking the poll.\n",
      "\n",
      "P3, Thank you for taking the poll.\n",
      "\n",
      "Sewe, Thank you for taking the poll.\n",
      "\n",
      "The following languages have been mentioned\n",
      "\n",
      "Python\n",
      "\n",
      "C\n",
      "\n",
      "Html\n",
      "\n",
      "Ruby\n",
      "\n"
     ]
    }
   ],
   "source": [
    "#looping through list in a particular order\n",
    "\n",
    "favorite_languages = {\n",
    "    'alfred': 'python',\n",
    "    'sewe':'c',\n",
    "    'ernest': 'ruby',\n",
    "    'kb': 'HTML',\n",
    "    'p3': 'python'\n",
    "    }\n",
    "\n",
    "for name in sorted(favorite_languages.keys()):\n",
    "    print(f\"{name.title()}, Thank you for taking the poll.\\n\")\n",
    "    \n",
    "#looping through all the values in the dictionary\n",
    "\n",
    "print(\"The following languages have been mentioned\\n\")\n",
    "for language in set(favorite_languages.values()):\n",
    "    print(f\"{language.title()}\\n\")"
   ]
  },
  {
   "cell_type": "code",
   "execution_count": 58,
   "metadata": {},
   "outputs": [
    {
     "name": "stdout",
     "output_type": "stream",
     "text": [
      "{'python', 'c', 'ruby'}\n"
     ]
    }
   ],
   "source": [
    "#sets\n",
    "\n",
    "language = {'python', 'ruby', 'python', 'c'}\n",
    "print(language)"
   ]
  },
  {
   "cell_type": "code",
   "execution_count": 10,
   "metadata": {},
   "outputs": [
    {
     "name": "stdout",
     "output_type": "stream",
     "text": [
      "River Nile flows through Egypt.\n",
      "\n",
      "River Congo flows through Drc.\n",
      "\n",
      "River Zambezi flows through Zambia.\n",
      "\n",
      "River Nile\n",
      "\n",
      "River Congo\n",
      "\n",
      "River Zambezi\n",
      "\n",
      "Countries\n",
      "\n",
      "Egypt\n",
      "Drc\n",
      "Zambia\n"
     ]
    }
   ],
   "source": [
    "#try it myself\n",
    "\n",
    "rivers = {\n",
    "    'nile': 'egypt',\n",
    "    'congo': 'DRC',\n",
    "    'zambezi': 'zambia',\n",
    "}\n",
    "\n",
    "for river, place in rivers.items():\n",
    "    print(f\"River {river.title()} flows through {place.title()}.\\n\")\n",
    "    \n",
    "for river in rivers.keys():\n",
    "    print(f\"River {river.title()}\\n\")\n",
    "    \n",
    "print('Countries\\n')\n",
    "for place in rivers.values():\n",
    "    print(f\"{place.title()}\")"
   ]
  },
  {
   "cell_type": "code",
   "execution_count": 11,
   "metadata": {},
   "outputs": [
    {
     "name": "stdout",
     "output_type": "stream",
     "text": [
      "Antonine, you're invited ot take the poll\n",
      "\n",
      "P3, Thank you for responding\n",
      "\n",
      "Wicky, you're invited ot take the poll\n",
      "\n",
      "Kb, Thank you for responding\n",
      "\n"
     ]
    }
   ],
   "source": [
    "#looping through list in a particular order\n",
    "\n",
    "favorite_languages = {\n",
    "    'alfred': 'python',\n",
    "    'sewe':'c',\n",
    "    'ernest': 'ruby',\n",
    "    'kb': 'HTML',\n",
    "    'p3': 'python'\n",
    "    }\n",
    "\n",
    "poll_takers = ['antonine', 'p3', 'wicky', 'kb']\n",
    "\n",
    "for name in poll_takers:\n",
    "    if name in favorite_languages.keys():\n",
    "        print(f\"{name.title()}, Thank you for responding\\n\")\n",
    "        \n",
    "    else:\n",
    "        print(f\"{name.title()}, You're invited ot take the poll\\n\")\n",
    "    "
   ]
  },
  {
   "cell_type": "code",
   "execution_count": 14,
   "metadata": {},
   "outputs": [
    {
     "name": "stdout",
     "output_type": "stream",
     "text": [
      "{'color': 'green', 'points': 5}\n",
      "{'color': 'yellow', 'points': 10}\n",
      "{'color': 'red', 'points': 15}\n"
     ]
    }
   ],
   "source": [
    "#nesting\n",
    "#A list of dictionaries\n",
    "\n",
    "alien_0 = {'color': 'green', 'points': 5}\n",
    "alien_1 = {'color': 'yellow', 'points': 10}\n",
    "alien_2 = {'color': 'red', 'points': 15}\n",
    "\n",
    "aliens = [alien_0, alien_1, alien_2]\n",
    "\n",
    "for alien in aliens:\n",
    "    print(alien)"
   ]
  },
  {
   "cell_type": "code",
   "execution_count": 31,
   "metadata": {},
   "outputs": [
    {
     "name": "stdout",
     "output_type": "stream",
     "text": [
      "\n",
      "The total number of aliens is: 30\n",
      "{'color': 'yellow', 'points': 10, 'speed': 'medium'}\n",
      "{'color': 'green', 'points': 5, 'speed': 'slow'}\n",
      "{'color': 'green', 'points': 5, 'speed': 'slow'}\n"
     ]
    }
   ],
   "source": [
    "#Making an empty list\n",
    "\n",
    "aliens = []\n",
    "\n",
    "#make 30 green aliens\n",
    "for alien_number in range(30):\n",
    "    new_alien = {'color': 'green', 'points': 5, 'speed': 'slow',}\n",
    "    aliens.append(new_alien)\n",
    "    \n",
    "#printing the first 10 aliens in the list\n",
    "#for alien in aliens[:3]:\n",
    "#    print(alien)\n",
    "\n",
    "#showing the total number of aliens in the list\n",
    "\n",
    "print(f\"\\nThe total number of aliens is: {len(aliens)}\")\n",
    "\n",
    "for alien in aliens[:1]:\n",
    "    if alien['color'] == 'green':\n",
    "        alien['color'] = 'yellow'\n",
    "        alien['points'] = 10\n",
    "        alien['speed'] = 'medium'\n",
    "\n",
    "for alien in aliens[:3]:\n",
    "    print(alien)"
   ]
  },
  {
   "cell_type": "code",
   "execution_count": 43,
   "metadata": {},
   "outputs": [
    {
     "name": "stdout",
     "output_type": "stream",
     "text": [
      "You ordered a thick-crust pizza with the following toppings:\n",
      "\tmushroom\n",
      "\textra cheese\n"
     ]
    }
   ],
   "source": [
    "#A list in a dictionary\n",
    "\n",
    "#store information about pizza being ordered\n",
    "pizza = {\n",
    "    'crust': 'thick',\n",
    "    'toppings': ['mushroom', 'extra cheese'],\n",
    "    }\n",
    "#printing of the order \n",
    "print(f\"You ordered a {pizza['crust']}-crust pizza\" \n",
    "      \" with the following toppings:\")\n",
    "\n",
    "for topping in pizza['toppings']:\n",
    "      print(f\"\\t{topping}\")"
   ]
  },
  {
   "cell_type": "code",
   "execution_count": 4,
   "metadata": {},
   "outputs": [
    {
     "name": "stdout",
     "output_type": "stream",
     "text": [
      "python\n",
      "HTML\n",
      "c\n",
      "ruby\n",
      "c#\n",
      "HTML\n",
      "JS\n",
      "python\n",
      "R\n",
      "java\n",
      "\n",
      "Alfred's favorite languages are:'\n",
      "\t python\n",
      "\t HTML\n",
      "\n",
      "Sewe's favorite langauge is:\n",
      "\t c\n",
      "\n",
      "Ernest's favorite languages are:'\n",
      "\t ruby\n",
      "\t c#\n",
      "\n",
      "Kb's favorite languages are:'\n",
      "\t HTML\n",
      "\t JS\n",
      "\n",
      "P3's favorite languages are:'\n",
      "\t python\n",
      "\t R\n",
      "\t java\n",
      "HTML\n"
     ]
    }
   ],
   "source": [
    "#A list in a dictionary\n",
    "\n",
    "favorite_languages = {\n",
    "    'alfred': ['python', 'HTML'],\n",
    "    'sewe':['c'],\n",
    "    'ernest': ['ruby', 'c#'],\n",
    "    'kb': ['HTML','JS'],\n",
    "    'p3': ['python', 'R', 'java'],\n",
    "    }\n",
    "\n",
    "for favorite_language in favorite_languages.values():\n",
    "    for language in favorite_language:\n",
    "        print(language)\n",
    "\n",
    "for names, languages in favorite_languages.items():\n",
    "    if len(languages) > 1:\n",
    "        print(f\"\\n{names.title()}'s favorite languages are:'\")\n",
    "    else:\n",
    "        print(f\"\\n{names.title()}'s favorite langauge is:\")\n",
    "    \n",
    "    for language in languages:\n",
    "        print(f\"\\t {language}\")\n",
    "        \n",
    "#how to access elements of the list in the dictionary        \n",
    "print(favorite_languages['alfred'][1])"
   ]
  },
  {
   "cell_type": "code",
   "execution_count": 17,
   "metadata": {},
   "outputs": [
    {
     "name": "stdout",
     "output_type": "stream",
     "text": [
      "Username: Fender\n",
      "Fullname: Alfred Okinyi\n",
      "Location: Kisumu\n",
      "\n",
      "Username: Mamba\n",
      "Fullname: George Sewe\n",
      "Location: Siaya\n",
      "\n"
     ]
    }
   ],
   "source": [
    "#nesting a dictionary in a dictionary\n",
    "\n",
    "users = {\n",
    "    'fender':{\n",
    "        'f_name': 'alfred',\n",
    "        'l_name': 'okinyi',\n",
    "        'location': 'kisumu',\n",
    "        },\n",
    "    'mamba':{\n",
    "        'f_name': 'george',\n",
    "        'l_name': 'sewe',\n",
    "        'location': 'siaya'\n",
    "        },\n",
    "    }\n",
    "\n",
    "for username, user_info in users.items():\n",
    "    print(f\"Username: {username.title()}\")\n",
    "    full_name = f\"{user_info['f_name'].title()} {user_info['l_name'].title()}\"\n",
    "    location = f\"{user_info['location'].title()}\"\n",
    "    \n",
    "    print(f\"Fullname: {full_name}\")\n",
    "    print(f\"Location: {location}\\n\")"
   ]
  },
  {
   "cell_type": "code",
   "execution_count": 3,
   "metadata": {},
   "outputs": [
    {
     "name": "stdout",
     "output_type": "stream",
     "text": [
      "Fullname: Alfred Okinyi\n",
      "Age:23\n",
      "\n",
      "Fullname: Ernest Mutuku\n",
      "Age:22\n",
      "\n",
      "Fullname: Mark Kipyegon\n",
      "Age:21\n",
      "\n"
     ]
    }
   ],
   "source": [
    "# Try it myself\n",
    "\n",
    "user_1 = {\n",
    "    'f_name': 'alfred',\n",
    "    'l_name': 'okinyi',\n",
    "    'age': 23,\n",
    "    }\n",
    "user_2 = {\n",
    "    'f_name': 'ernest',\n",
    "    'l_name': 'mutuku',\n",
    "    'age': 22\n",
    "    }\n",
    "user_3 = {\n",
    "    'f_name': 'mark',\n",
    "    'l_name': 'kipyegon',\n",
    "    'age': 21,\n",
    "}\n",
    "\n",
    "users = [user_1, user_2, user_3]\n",
    "\n",
    "for user in users:\n",
    "    full_name = f\"{user['f_name'].title()} {user['l_name'].title()}\"\n",
    "    print(f\"Fullname: {full_name}\")\n",
    "    print(f\"Age:{user['age']}\\n\")"
   ]
  },
  {
   "cell_type": "code",
   "execution_count": 12,
   "metadata": {},
   "outputs": [
    {
     "name": "stdout",
     "output_type": "stream",
     "text": [
      "\n",
      "Alfred's favorite towns are:\n",
      "\t Kisumu\n",
      "\t Nyeri\n",
      "\t Nakuru\n",
      "\n",
      "Mutuku's favorite towns are:\n",
      "\t Wote\n",
      "\t Nairobi\n",
      "\n",
      "Sewe's favorite town is:'\n",
      "\t Siaya\n"
     ]
    }
   ],
   "source": [
    "#try it myself (favorite towns)\n",
    "\n",
    "favorite_towns = {\n",
    "    'alfred': ['kisumu', 'nyeri', 'nakuru'],\n",
    "    'mutuku':['wote', 'nairobi'],\n",
    "    'sewe': ['siaya'],\n",
    "    }\n",
    "\n",
    "for name, towns in favorite_towns.items():\n",
    "    if len(towns) > 1:\n",
    "        print(f\"\\n{name.title()}'s favorite towns are:\")\n",
    "    else:\n",
    "        print(f\"\\n{name.title()}'s favorite town is:'\")\n",
    "    for town in towns:\n",
    ";        print(f\"\\t {town.title()}\")"
   ]
  },
  {
   "cell_type": "code",
   "execution_count": 31,
   "metadata": {},
   "outputs": [
    {
     "name": "stdout",
     "output_type": "stream",
     "text": [
      "\n",
      "Below are some information about Nairobi\n",
      "\tCountry: Kenya\n",
      "\tPopulation: 5 Million\n",
      "\tFact: The City With The Biggest Game Reserve\n",
      "\n",
      "Below are some information about Dodoma\n",
      "\tCountry: Kenya\n",
      "\tPopulation: 3 Million\n",
      "\tFact: Capital City Of Tanzania\n",
      "\n",
      "Below are some information about Lagos\n",
      "\tCountry: Nigeria\n",
      "\tPopulation:  7 Million\n",
      "\tFact: Nigeria'S Largest City\n"
     ]
    }
   ],
   "source": [
    "#try it myself (cities)\n",
    "\n",
    "cities = {\n",
    "    'nairobi': {\n",
    "        'country': 'kenya',\n",
    "        'population': '5 million',\n",
    "        'fact': 'The city with the biggest game reserve',\n",
    "        }, \n",
    "    \n",
    "     'dodoma': {\n",
    "        'country': 'kenya',\n",
    "        'population': '3 million',\n",
    "        'fact': 'Capital city of Tanzania',\n",
    "        },\n",
    "    \n",
    "    'lagos': {\n",
    "        'country': 'nigeria',\n",
    "        'population': ' 7 million',\n",
    "        'fact': \"Nigeria's largest city\",\n",
    "        },\n",
    "    }\n",
    "\n",
    "for city, info in cities.items():\n",
    "    print(f\"\\nBelow are some information about {city.title()}\")\n",
    "    for keys, values in info.items():\n",
    "        print(f\"\\t{keys.title()}: {values.title()}\")"
   ]
  },
  {
   "cell_type": "code",
   "execution_count": null,
   "metadata": {},
   "outputs": [],
   "source": []
  }
 ],
 "metadata": {
  "kernelspec": {
   "display_name": "Python 3 (ipykernel)",
   "language": "python",
   "name": "python3"
  },
  "language_info": {
   "codemirror_mode": {
    "name": "ipython",
    "version": 3
   },
   "file_extension": ".py",
   "mimetype": "text/x-python",
   "name": "python",
   "nbconvert_exporter": "python",
   "pygments_lexer": "ipython3",
   "version": "3.8.5"
  }
 },
 "nbformat": 4,
 "nbformat_minor": 2
}
