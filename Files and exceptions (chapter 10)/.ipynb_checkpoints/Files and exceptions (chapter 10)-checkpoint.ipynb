{
 "cells": [
  {
   "cell_type": "markdown",
   "id": "17af05ab",
   "metadata": {},
   "source": [
    "## Reading from a file"
   ]
  },
  {
   "cell_type": "code",
   "execution_count": 20,
   "id": "886202c3",
   "metadata": {
    "scrolled": true
   },
   "outputs": [
    {
     "name": "stdout",
     "output_type": "stream",
     "text": [
      "3.1415926535\n",
      "  8979323846\n",
      "  2643383279\n"
     ]
    }
   ],
   "source": [
    "with open('pi_digits.txt') as file_object:\n",
    "    contents = file_object.read()\n",
    "print(contents)"
   ]
  },
  {
   "cell_type": "code",
   "execution_count": 17,
   "id": "1d371e7d",
   "metadata": {
    "scrolled": true
   },
   "outputs": [
    {
     "name": "stdout",
     "output_type": "stream",
     "text": [
      "I am a 5th year student pursuing Bachelor of science in Electrical and Electronics Engineering at Dedan Kimathi University of Technology scheduled to finish 7th October. Industrial    write this letter applying for the engineering trainee program in your organization. \n",
      "\n"
     ]
    }
   ],
   "source": [
    "#absolute path\n",
    "file_path = 'D:\\\\5th year\\\\5.2\\\\app.txt'\n",
    "with open(file_path) as file_object:\n",
    "    content = file_object.read()\n",
    "print(content)"
   ]
  },
  {
   "cell_type": "code",
   "execution_count": 19,
   "id": "40434611",
   "metadata": {},
   "outputs": [
    {
     "name": "stdout",
     "output_type": "stream",
     "text": [
      "3.1415926535\n",
      "  8979323846\n",
      "  2643383279\n"
     ]
    }
   ],
   "source": [
    "#reading line by line\n",
    "file_name = 'pi_digits.txt'\n",
    "with open(file_name) as file_object:\n",
    "    for line in file_object:\n",
    "        print(line.rstrip())"
   ]
  },
  {
   "cell_type": "code",
   "execution_count": 26,
   "id": "a94c915c",
   "metadata": {},
   "outputs": [
    {
     "name": "stdout",
     "output_type": "stream",
     "text": [
      "3.141592653589793238462643383279\n",
      "32\n"
     ]
    }
   ],
   "source": [
    "#making a list of lines from a file\n",
    "file_name = 'pi_digits.txt'\n",
    "with open(file_name) as file_object:\n",
    "    lines = file_object.readlines()\n",
    "#working with contents of the file\n",
    "pi_string = ''\n",
    "for line in lines:\n",
    "    pi_string += line.strip()\n",
    "    \n",
    "print(pi_string)\n",
    "print(len(pi_string))"
   ]
  },
  {
   "cell_type": "code",
   "execution_count": 27,
   "id": "3d3d1ae2",
   "metadata": {},
   "outputs": [
    {
     "name": "stdout",
     "output_type": "stream",
     "text": [
      "3.14159265358979323846264338327950288419716939937510...\n",
      "1000002\n"
     ]
    }
   ],
   "source": [
    "#large files (one million pi digits)\n",
    "file_name = 'pi_million_digits.txt'\n",
    "with open(file_name) as file_object:\n",
    "    lines = file_object.readlines()\n",
    "#working with contents of the file\n",
    "pi_string = ''\n",
    "for line in lines:\n",
    "    pi_string += line.strip()\n",
    "    \n",
    "print(f\"{pi_string[:52]}...\")\n",
    "print(len(pi_string))\n"
   ]
  },
  {
   "cell_type": "code",
   "execution_count": 29,
   "id": "5f32d333",
   "metadata": {},
   "outputs": [
    {
     "name": "stdout",
     "output_type": "stream",
     "text": [
      "Enter your birthday, in the form of mmddyy:111599\n",
      "Your birthday appears in first million digits of pi\n"
     ]
    }
   ],
   "source": [
    "#is my birthday in pi_million_string\n",
    "file_name = 'pi_million_digits.txt'\n",
    "with open(file_name) as file_object:\n",
    "    lines = file_object.readlines()\n",
    "#working with contents of the file\n",
    "pi_string = ''\n",
    "for line in lines:\n",
    "    pi_string += line.strip()\n",
    "    \n",
    "birthday = input(\"Enter your birthday, in the form of mmddyy:\")\n",
    "if birthday in pi_string:\n",
    "    print(\"Your birthday appears in first million digits of pi\")\n",
    "else:\n",
    "    print(\"Your birthday does not appear in first million digits of pi\")\n"
   ]
  },
  {
   "cell_type": "code",
   "execution_count": 35,
   "id": "62d3dcee",
   "metadata": {},
   "outputs": [
    {
     "name": "stdout",
     "output_type": "stream",
     "text": [
      "I've learnt the following in my python journey.In python I can work with lists, dictionaries, tuples, and sets as data structures.In python I can use conditional statement and if statement.In python I can use user inputs and while loops.In python I can work with functions.In python I can work with classesand lastly i'm in file and exceptions.\n",
      "\n",
      "I've learnt the following in my python journey.In python I can work with lists, dictionaries, tuples, and sets as data structures.In python I can use conditional statement and if statement.In python I can use user inputs and while loops.In python I can work with functions.In python I can work with classesand lastly i'm in file and exceptions.\n",
      "\n",
      "I've learnt the following in my python journey.In python I can work with lists, dictionaries, tuples, and sets as data structures.In python I can use conditional statement and if statement.In python I can use user inputs and while loops.In python I can work with functions.In python I can work with classesand lastly i'm in file and exceptions.\n",
      "\n"
     ]
    }
   ],
   "source": [
    "#try it myself\n",
    "file_name = 'learning_python.txt'\n",
    "with open(file_name) as file_object:\n",
    "    contents = file_object.readlines()\n",
    "    \n",
    "text_string = ''\n",
    "for content in contents:\n",
    "    text_string += content.strip()\n",
    "    \n",
    "i = 0\n",
    "while i < 3:\n",
    "    print(f\"{text_string}\\n\")\n",
    "    i = i + 1\n"
   ]
  },
  {
   "cell_type": "code",
   "execution_count": 41,
   "id": "e92ac702",
   "metadata": {},
   "outputs": [
    {
     "name": "stdout",
     "output_type": "stream",
     "text": [
      "I've learnt the following in my C journey.\n",
      "In C I can work with lists, dictionaries, tuples, and sets as data structures.\n",
      "In C I can use conditional statement and if statement.\n",
      "In C I can use user inputs and while loops.\n",
      "In C I can work with functions.\n",
      "In C I can work with classes\n",
      "and lastly i'm in file and exceptions.\n",
      "\n",
      "I've learnt the following in my C journey.\n",
      "In C I can work with lists, dictionaries, tuples, and sets as data structures.\n",
      "In C I can use conditional statement and if statement.\n",
      "In C I can use user inputs and while loops.\n",
      "In C I can work with functions.\n",
      "In C I can work with classes\n",
      "and lastly i'm in file and exceptions.\n",
      "\n",
      "I've learnt the following in my C journey.\n",
      "In C I can work with lists, dictionaries, tuples, and sets as data structures.\n",
      "In C I can use conditional statement and if statement.\n",
      "In C I can use user inputs and while loops.\n",
      "In C I can work with functions.\n",
      "In C I can work with classes\n",
      "and lastly i'm in file and exceptions.\n",
      "\n"
     ]
    }
   ],
   "source": [
    "#try it myself\n",
    "file_name = 'learning_python.txt'\n",
    "with open(file_name) as file_object:\n",
    "    content = file_object.read()\n",
    "    \n",
    "new_content = content.replace('python', 'C')    \n",
    "i = 0\n",
    "while i < 3:\n",
    "    print(f\"{new_content}\\n\")\n",
    "    i = i + 1"
   ]
  },
  {
   "cell_type": "code",
   "execution_count": 48,
   "id": "4f871c12",
   "metadata": {},
   "outputs": [
    {
     "name": "stdout",
     "output_type": "stream",
     "text": [
      "[8, 9, 9]\n",
      "Only two digit integer is accepted\n"
     ]
    }
   ],
   "source": [
    "n = 899\n",
    " \n",
    "string = str(n)\n",
    "my_list = [int(x) for x in string]\n",
    "print(my_list)\n",
    "if len(my_list) <= 2:\n",
    "    sum = my_list[0] + my_list[1]\n",
    "    print(sum)\n",
    "else:\n",
    "    print(\"Only two digit integer is accepted\")"
   ]
  },
  {
   "cell_type": "code",
   "execution_count": 50,
   "id": "29d6a003",
   "metadata": {},
   "outputs": [
    {
     "name": "stdout",
     "output_type": "stream",
     "text": [
      "The sum of {False}\n"
     ]
    }
   ],
   "source": [
    "def solution(n):\n",
    "    string = str(n)\n",
    "    num_list = [int(x) for x in string]\n",
    "    if len(num_list) <= 2:\n",
    "        sum = num_list[0] + num_list[1]\n",
    "        print(f\"The sum of {num_list[0] and {num_list[1] is {sum}}}\")\n",
    "    else:\n",
    "        print(\"Only two digit numbers are accepted\")\n",
    "solution(89)"
   ]
  },
  {
   "cell_type": "code",
   "execution_count": null,
   "id": "637808a2",
   "metadata": {},
   "outputs": [],
   "source": []
  }
 ],
 "metadata": {
  "kernelspec": {
   "display_name": "Python 3 (ipykernel)",
   "language": "python",
   "name": "python3"
  },
  "language_info": {
   "codemirror_mode": {
    "name": "ipython",
    "version": 3
   },
   "file_extension": ".py",
   "mimetype": "text/x-python",
   "name": "python",
   "nbconvert_exporter": "python",
   "pygments_lexer": "ipython3",
   "version": "3.8.5"
  }
 },
 "nbformat": 4,
 "nbformat_minor": 5
}
