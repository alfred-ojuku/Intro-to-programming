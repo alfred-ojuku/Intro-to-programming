{
 "cells": [
  {
   "cell_type": "markdown",
   "id": "17af05ab",
   "metadata": {},
   "source": [
    "## Reading from a file"
   ]
  },
  {
   "cell_type": "code",
   "execution_count": 20,
   "id": "886202c3",
   "metadata": {
    "scrolled": true
   },
   "outputs": [
    {
     "name": "stdout",
     "output_type": "stream",
     "text": [
      "3.1415926535\n",
      "  8979323846\n",
      "  2643383279\n"
     ]
    }
   ],
   "source": [
    "with open('pi_digits.txt') as file_object:\n",
    "    contents = file_object.read()\n",
    "print(contents)"
   ]
  },
  {
   "cell_type": "code",
   "execution_count": 17,
   "id": "ef4dcd37",
   "metadata": {
    "scrolled": true
   },
   "outputs": [
    {
     "name": "stdout",
     "output_type": "stream",
     "text": [
      "I am a 5th year student pursuing Bachelor of science in Electrical and Electronics Engineering at Dedan Kimathi University of Technology scheduled to finish 7th October. Industrial    write this letter applying for the engineering trainee program in your organization. \n",
      "\n"
     ]
    }
   ],
   "source": [
    "#absolute path\n",
    "file_path = 'D:\\\\5th year\\\\5.2\\\\app.txt'\n",
    "with open(file_path) as file_object:\n",
    "    content = file_object.read()\n",
    "print(content)"
   ]
  },
  {
   "cell_type": "code",
   "execution_count": 19,
   "id": "de32b28e",
   "metadata": {},
   "outputs": [
    {
     "name": "stdout",
     "output_type": "stream",
     "text": [
      "3.1415926535\n",
      "  8979323846\n",
      "  2643383279\n"
     ]
    }
   ],
   "source": [
    "#reading line by line\n",
    "file_name = 'pi_digits.txt'\n",
    "with open(file_name) as file_object:\n",
    "    for line in file_object:\n",
    "        print(line.rstrip())"
   ]
  },
  {
   "cell_type": "code",
   "execution_count": 26,
   "id": "db987bec",
   "metadata": {},
   "outputs": [
    {
     "name": "stdout",
     "output_type": "stream",
     "text": [
      "3.141592653589793238462643383279\n",
      "32\n"
     ]
    }
   ],
   "source": [
    "#making a list of lines from a file\n",
    "file_name = 'pi_digits.txt'\n",
    "with open(file_name) as file_object:\n",
    "    lines = file_object.readlines()\n",
    "#working with contents of the file\n",
    "pi_string = ''\n",
    "for line in lines:\n",
    "    pi_string += line.strip()\n",
    "    \n",
    "print(pi_string)\n",
    "print(len(pi_string))"
   ]
  },
  {
   "cell_type": "code",
   "execution_count": 27,
   "id": "0bc71774",
   "metadata": {},
   "outputs": [
    {
     "name": "stdout",
     "output_type": "stream",
     "text": [
      "3.14159265358979323846264338327950288419716939937510...\n",
      "1000002\n"
     ]
    }
   ],
   "source": [
    "#large files (one million pi digits)\n",
    "file_name = 'pi_million_digits.txt'\n",
    "with open(file_name) as file_object:\n",
    "    lines = file_object.readlines()\n",
    "#working with contents of the file\n",
    "pi_string = ''\n",
    "for line in lines:\n",
    "    pi_string += line.strip()\n",
    "    \n",
    "print(f\"{pi_string[:52]}...\")\n",
    "print(len(pi_string))\n"
   ]
  },
  {
   "cell_type": "code",
   "execution_count": 29,
   "id": "2a6f4315",
   "metadata": {},
   "outputs": [
    {
     "name": "stdout",
     "output_type": "stream",
     "text": [
      "Enter your birthday, in the form of mmddyy:111599\n",
      "Your birthday appears in first million digits of pi\n"
     ]
    }
   ],
   "source": [
    "#is my birthday in pi_million_string\n",
    "file_name = 'pi_million_digits.txt'\n",
    "with open(file_name) as file_object:\n",
    "    lines = file_object.readlines()\n",
    "#working with contents of the file\n",
    "pi_string = ''\n",
    "for line in lines:\n",
    "    pi_string += line.strip()\n",
    "    \n",
    "birthday = input(\"Enter your birthday, in the form of mmddyy:\")\n",
    "if birthday in pi_string:\n",
    "    print(\"Your birthday appears in first million digits of pi\")\n",
    "else:\n",
    "    print(\"Your birthday does not appear in first million digits of pi\")\n"
   ]
  },
  {
   "cell_type": "code",
   "execution_count": 2,
   "id": "959992e8",
   "metadata": {},
   "outputs": [
    {
     "name": "stdout",
     "output_type": "stream",
     "text": [
      "I've learnt the following in my python journey.In python I can work with lists, dictionaries, tuples, and sets as data structures.In python I can use conditional statement and if statement.In python I can use user inputs and while loops.In python I can work with functions.In python I can work with classesand lastly i'm in file and exceptions.\n",
      "\n"
     ]
    }
   ],
   "source": [
    "#try it myself\n",
    "file_name = 'learning_python.txt'\n",
    "with open(file_name) as file_object:\n",
    "    contents = file_object.readlines()\n",
    "    \n",
    "text_string = ''\n",
    "for content in contents:\n",
    "    text_string += content.strip()\n",
    "    \n",
    "#i = 0\n",
    "#while i < 3:\n",
    "print(f\"{text_string}\\n\")\n",
    "    #i = i + 1\n"
   ]
  },
  {
   "cell_type": "code",
   "execution_count": null,
   "id": "2299d003",
   "metadata": {},
   "outputs": [],
   "source": [
    "#try it myself\n",
    "file_name = 'learning_python.txt'\n",
    "with open(file_name) as file_object:\n",
    "    content = file_object.read()\n",
    "    \n",
    "new_content = content.replace('python', 'C')    \n",
    "#i = 0\n",
    "#while i < 3:\n",
    "print(f\"{new_content}\\n\")\n",
    "   # i = i + 1"
   ]
  },
  {
   "cell_type": "markdown",
   "id": "4a9a050b",
   "metadata": {},
   "source": [
    "## Writing to a file"
   ]
  },
  {
   "cell_type": "code",
   "execution_count": 11,
   "id": "bfba2224",
   "metadata": {},
   "outputs": [],
   "source": [
    "#writing to a file\n",
    "file_name = 'programming.txt'\n",
    "with open(file_name, 'w') as file_object:\n",
    "    file_object.write(\"I love programming in python.\\n\")\n",
    "    file_object.write(\"I love creating games.\")"
   ]
  },
  {
   "cell_type": "markdown",
   "id": "99756654",
   "metadata": {},
   "source": [
    "## Appending to a file"
   ]
  },
  {
   "cell_type": "code",
   "execution_count": 12,
   "id": "fc2b35d7",
   "metadata": {},
   "outputs": [],
   "source": [
    "#appending to a file\n",
    "filename = 'programming.txt'\n",
    "with open(filename, 'a') as fileobject:\n",
    "    fileobject.write(\"I love finding meaning in large datasets.\\n\")\n",
    "    fileobject.write(\"I love creating intelligent models.\")   "
   ]
  },
  {
   "cell_type": "markdown",
   "id": "3b9d8ce9",
   "metadata": {},
   "source": [
    "## Try it myself"
   ]
  },
  {
   "cell_type": "code",
   "execution_count": 21,
   "id": "961e6a39",
   "metadata": {},
   "outputs": [
    {
     "name": "stdout",
     "output_type": "stream",
     "text": [
      "Please enter your name\temelda okinyi\n"
     ]
    }
   ],
   "source": [
    "#try it myself\n",
    "file_name = 'guest.txt'\n",
    "name = input(\"Please enter your name\\t\")\n",
    "with open(file_name, 'a') as file_object:\n",
    "    file_object.write(name.title())"
   ]
  },
  {
   "cell_type": "code",
   "execution_count": 30,
   "id": "f2d3d70f",
   "metadata": {},
   "outputs": [
    {
     "name": "stdout",
     "output_type": "stream",
     "text": [
      "Please enter your name or q to quit\tq\n"
     ]
    }
   ],
   "source": [
    "#try it myself\n",
    "active = True\n",
    "file_name = 'guest.txt'\n",
    "while active:\n",
    "    name = input(\"Please enter your name or q to quit\\t\")\n",
    "    if name != 'q':\n",
    "        message = f\"Hello {name.title()}\\n\"\n",
    "        with open(file_name, 'a') as file_object:\n",
    "            file_object.write(message)\n",
    "    else:\n",
    "        break"
   ]
  },
  {
   "cell_type": "markdown",
   "id": "346d76f3",
   "metadata": {},
   "source": [
    "## Exceptions"
   ]
  },
  {
   "cell_type": "code",
   "execution_count": 31,
   "id": "731c07d4",
   "metadata": {},
   "outputs": [
    {
     "name": "stdout",
     "output_type": "stream",
     "text": [
      "You can't divide by zero\n"
     ]
    }
   ],
   "source": [
    "#using try-except block\n",
    "try:\n",
    "    print(5/0)\n",
    "except ZeroDivisionError:\n",
    "    print(\"You can't divide by zero\")\n",
    "    "
   ]
  },
  {
   "cell_type": "code",
   "execution_count": null,
   "id": "24a1095a",
   "metadata": {},
   "outputs": [
    {
     "name": "stdout",
     "output_type": "stream",
     "text": [
      "Give me two numbers and I'll divide them\n",
      "Enter 0 to quit\n",
      "First number:q\n",
      "Letters are not accepted\n",
      "First number:0\n",
      "Second number:0\n",
      "You can't divide a number by 0\n",
      "First number:0\n",
      "Second number:q\n",
      "Letters and strings are not accepted\n",
      "You can't divide a number by 0\n",
      "First number:0\n"
     ]
    }
   ],
   "source": [
    "print(\"Give me two numbers and I'll divide them\")\n",
    "print(\"Enter 0 to quit\")\n",
    "\n",
    "while True:\n",
    "    try:\n",
    "        f_num = int(input(\"First number:\"))\n",
    "    except ValueError:\n",
    "        print(\"Letters are not accepted\")\n",
    "        continue\n",
    "    if str(f_num) == 'q':\n",
    "        break\n",
    "    try:\n",
    "        s_num = int(input(\"Second number:\"))\n",
    "    except ValueError:\n",
    "        print(\"Letters and strings are not accepted\")\n",
    "    if str(s_num) == 'q':\n",
    "        break\n",
    "    try:\n",
    "        answer = f_num / s_num\n",
    "    except ZeroDivisionError:\n",
    "        print(\"You can't divide a number by 0\")\n",
    "    else:\n",
    "        print(round(answer, 2))"
   ]
  },
  {
   "cell_type": "code",
   "execution_count": 1,
   "id": "5617c957",
   "metadata": {},
   "outputs": [
    {
     "name": "stdout",
     "output_type": "stream",
     "text": [
      "  1   2   3   4   5   6   7   8   9  10 \n",
      "  2   4   6   8  10  12  14  16  18  20 \n",
      "  3   6   9  12  15  18  21  24  27  30 \n",
      "  4   8  12  16  20  24  28  32  36  40 \n",
      "  5  10  15  20  25  30  35  40  45  50 \n",
      "  6  12  18  24  30  36  42  48  54  60 \n",
      "  7  14  21  28  35  42  49  56  63  70 \n",
      "  8  16  24  32  40  48  56  64  72  80 \n",
      "  9  18  27  36  45  54  63  72  81  90 \n",
      " 10  20  30  40  50  60  70  80  90 100 \n"
     ]
    }
   ],
   "source": [
    "#random code\n",
    "factors = [1, 2, 3, 4, 5, 6, 7, 8, 9, 10]\n",
    "\n",
    "for i in factors:\n",
    "    row = \"\"\n",
    "    for j in factors:\n",
    "        product = i * j\n",
    "        if product < 10:\n",
    "            row += f\"  {i * j} \"\n",
    "        elif product < 100:\n",
    "            row += f\" {i * j} \"\n",
    "        else:\n",
    "            row += f\"{i * j} \"\n",
    "    print(row)"
   ]
  },
  {
   "cell_type": "code",
   "execution_count": 2,
   "id": "a45cdc05",
   "metadata": {},
   "outputs": [
    {
     "name": "stdout",
     "output_type": "stream",
     "text": [
      "4⋅i = 4\n",
      "4⋅i = 8\n",
      "4⋅i = 12\n",
      "4⋅i = 16\n",
      "4⋅i = 20\n",
      "4⋅i = 24\n",
      "4⋅i = 28\n",
      "4⋅i = 32\n",
      "4⋅i = 36\n",
      "4⋅i = 40\n"
     ]
    }
   ],
   "source": [
    "factors = [1, 2, 3, 4, 5, 6, 7, 8, 9, 10]\n",
    "for i in factors:\n",
    "    print(f\"4⋅i = {4 * i}\")"
   ]
  },
  {
   "cell_type": "code",
   "execution_count": 2,
   "id": "a62691de",
   "metadata": {},
   "outputs": [
    {
     "name": "stdout",
     "output_type": "stream",
     "text": [
      "Sorry, the file alice.txt does not exist\n"
     ]
    }
   ],
   "source": [
    "#Handling the FileNotFoundError Exception\n",
    "filename = 'alice.txt'\n",
    "try:\n",
    "    with open(filename, encoding='utf-8') as f:\n",
    "        contents = f.read()\n",
    "except FileNotFoundError:\n",
    "    print(f\"Sorry, the file {filename} does not exist\")"
   ]
  },
  {
   "cell_type": "code",
   "execution_count": 10,
   "id": "c3e58be2",
   "metadata": {},
   "outputs": [
    {
     "name": "stdout",
     "output_type": "stream",
     "text": [
      "['I', 'love,', 'programming', 'in', 'python!']\n"
     ]
    }
   ],
   "source": [
    "#analyzing texts\n",
    "text = \"I love programming in python!\"\n",
    "print(text.split())"
   ]
  },
  {
   "cell_type": "code",
   "execution_count": 11,
   "id": "5cb1c03d",
   "metadata": {},
   "outputs": [
    {
     "name": "stdout",
     "output_type": "stream",
     "text": [
      "The number of words in alice.txt is 29590\n"
     ]
    }
   ],
   "source": [
    "#alice in wonderland\n",
    "filename = 'alice.txt'\n",
    "try:\n",
    "    with open(filename, encoding='utf-8') as f:\n",
    "        contents = f.read()\n",
    "except FileNotFoundError:\n",
    "    print(f\"Sorry, the file {filename} does not exist\")\n",
    "else:\n",
    "    #counts the number of words\n",
    "    words = contents.split()\n",
    "    num_words = len(words)\n",
    "    print(f\"The number of words in {filename} is {num_words}\")"
   ]
  },
  {
   "cell_type": "code",
   "execution_count": 17,
   "id": "5753cf52",
   "metadata": {},
   "outputs": [
    {
     "name": "stdout",
     "output_type": "stream",
     "text": [
      "The number of words in alice.txt is 29590\n",
      "Sorry, the file ojuku.txt does not exist\n",
      "The number of words in moby dick.txt is 215864\n",
      "The number of words in little women.txt is 195897\n"
     ]
    }
   ],
   "source": [
    "#working with multiple files\n",
    "def count_words(filename):\n",
    "    \"\"\"Counts the number of words in a text\"\"\"\n",
    "    try:\n",
    "        with open(filename, encoding='utf-8') as f:\n",
    "            contents = f.read()\n",
    "    except FileNotFoundError:\n",
    "        print(f\"Sorry, the file {filename} does not exist\")\n",
    "    else:\n",
    "        #counts the number of words\n",
    "        words = contents.split()\n",
    "        num_words = len(words)\n",
    "        print(f\"The number of words in {filename} is {num_words}\")\n",
    "\n",
    "filename = ['alice.txt', 'ojuku.txt', 'moby dick.txt', 'little women.txt']\n",
    "for file in filename:\n",
    "    count_words(file)"
   ]
  },
  {
   "cell_type": "code",
   "execution_count": 18,
   "id": "ced30551",
   "metadata": {},
   "outputs": [
    {
     "name": "stdout",
     "output_type": "stream",
     "text": [
      "The number of words in alice.txt is 29590\n",
      "The number of words in moby dick.txt is 215864\n",
      "The number of words in little women.txt is 195897\n"
     ]
    }
   ],
   "source": [
    "#failing silently \n",
    "def count_words(filename):\n",
    "    \"\"\"Counts the number of words in a text\"\"\"\n",
    "    try:\n",
    "        with open(filename, encoding='utf-8') as f:\n",
    "            contents = f.read()\n",
    "    except FileNotFoundError:\n",
    "        pass\n",
    "    else:\n",
    "        #counts the number of words\n",
    "        words = contents.split()\n",
    "        num_words = len(words)\n",
    "        print(f\"The number of words in {filename} is {num_words}\")\n",
    "        \n",
    "filename = ['alice.txt', 'ojuku.txt', 'moby dick.txt', 'little women.txt']\n",
    "for file in filename:\n",
    "    count_words(file)"
   ]
  },
  {
   "cell_type": "code",
   "execution_count": 28,
   "id": "78631c3b",
   "metadata": {},
   "outputs": [
    {
     "name": "stdout",
     "output_type": "stream",
     "text": [
      "The number of words in alice.txt is 29590\n",
      "The number of words in moby dick.txt is 215864\n",
      "The number of words in little women.txt is 195897\n"
     ]
    }
   ],
   "source": [
    "#storing missing files in a file\n",
    "def count_words(filename):\n",
    "    \"\"\"Counts the number of words in a text\"\"\"\n",
    "    try:\n",
    "        with open(filename, encoding='utf-8') as f:\n",
    "            contents = f.read()\n",
    "    except FileNotFoundError:\n",
    "        missing = 'missing files.txt'\n",
    "        with open(missing, 'a') as f:\n",
    "            f.write(filename)\n",
    "    else:\n",
    "        #counts the number of words\n",
    "        words = contents.split()\n",
    "        num_words = len(words)\n",
    "        print(f\"The number of words in {filename} is {num_words}\")\n",
    "        \n",
    "filenames = ['alice.txt', 'ojuku.txt', 'moby dick.txt', 'little women.txt']\n",
    "for filename in filenames:\n",
    "    count_words(filename)"
   ]
  },
  {
   "cell_type": "code",
   "execution_count": 5,
   "id": "5a6124d3",
   "metadata": {},
   "outputs": [
    {
     "name": "stdout",
     "output_type": "stream",
     "text": [
      "Enter a number of q to quite5\n",
      "5\n",
      "Enter a number of q to quiteq\n"
     ]
    }
   ],
   "source": [
    "active = True\n",
    "while active:\n",
    "    x = input(\"Enter a number of q to quite\")\n",
    "    if x == 'q':\n",
    "        active = False\n",
    "    else:\n",
    "        int_x = int(x)\n",
    "        print(int_x)"
   ]
  },
  {
   "cell_type": "code",
   "execution_count": null,
   "id": "71831883",
   "metadata": {},
   "outputs": [],
   "source": []
  }
 ],
 "metadata": {
  "kernelspec": {
   "display_name": "Python 3 (ipykernel)",
   "language": "python",
   "name": "python3"
  },
  "language_info": {
   "codemirror_mode": {
    "name": "ipython",
    "version": 3
   },
   "file_extension": ".py",
   "mimetype": "text/x-python",
   "name": "python",
   "nbconvert_exporter": "python",
   "pygments_lexer": "ipython3",
   "version": "3.8.5"
  }
 },
 "nbformat": 4,
 "nbformat_minor": 5
}
