{
 "cells": [
  {
   "cell_type": "markdown",
   "id": "aa303d8f",
   "metadata": {},
   "source": [
    "# Lambda Function"
   ]
  },
  {
   "attachments": {},
   "cell_type": "markdown",
   "id": "a921473d",
   "metadata": {},
   "source": [
    "               A lambda function can take any number of arguments, but can only have oneline expression\n",
    "\n",
    "![lambda.png](attachment:lambda.png)\n"
   ]
  },
  {
   "cell_type": "markdown",
   "id": "e7fcc386",
   "metadata": {},
   "source": [
    "## Lambda function examples"
   ]
  },
  {
   "cell_type": "code",
   "execution_count": 11,
   "id": "88c7d0ff",
   "metadata": {},
   "outputs": [
    {
     "name": "stdout",
     "output_type": "stream",
     "text": [
      "200\n"
     ]
    }
   ],
   "source": [
    "x = lambda a,b: a * b\n",
    "print(x(10,20))"
   ]
  },
  {
   "cell_type": "code",
   "execution_count": 12,
   "id": "d548ba7c",
   "metadata": {},
   "outputs": [
    {
     "name": "stdout",
     "output_type": "stream",
     "text": [
      "30\n"
     ]
    }
   ],
   "source": [
    "y = lambda a,b: a + b\n",
    "print(y(10,20))"
   ]
  },
  {
   "cell_type": "code",
   "execution_count": 22,
   "id": "c0ee66f1",
   "metadata": {},
   "outputs": [
    {
     "name": "stdout",
     "output_type": "stream",
     "text": [
      "3.5\n"
     ]
    }
   ],
   "source": [
    "divide = lambda val: val / 2\n",
    "print(divide(7))"
   ]
  },
  {
   "cell_type": "code",
   "execution_count": 27,
   "id": "2122f04d",
   "metadata": {},
   "outputs": [
    {
     "name": "stdout",
     "output_type": "stream",
     "text": [
      "2\n"
     ]
    }
   ],
   "source": [
    "word = 'madam'\n",
    "print(int(len(word)/2))"
   ]
  },
  {
   "cell_type": "code",
   "execution_count": 26,
   "id": "8648822d",
   "metadata": {},
   "outputs": [
    {
     "data": {
      "text/plain": [
       "4.5"
      ]
     },
     "execution_count": 26,
     "metadata": {},
     "output_type": "execute_result"
    }
   ],
   "source": [
    "len(word)/2"
   ]
  },
  {
   "cell_type": "code",
   "execution_count": null,
   "id": "6e5ca7e3",
   "metadata": {},
   "outputs": [],
   "source": []
  }
 ],
 "metadata": {
  "kernelspec": {
   "display_name": "Python 3 (ipykernel)",
   "language": "python",
   "name": "python3"
  },
  "language_info": {
   "codemirror_mode": {
    "name": "ipython",
    "version": 3
   },
   "file_extension": ".py",
   "mimetype": "text/x-python",
   "name": "python",
   "nbconvert_exporter": "python",
   "pygments_lexer": "ipython3",
   "version": "3.8.5"
  }
 },
 "nbformat": 4,
 "nbformat_minor": 5
}
