{
 "cells": [
  {
   "cell_type": "code",
   "execution_count": 2,
   "id": "e108b6ee",
   "metadata": {},
   "outputs": [],
   "source": [
    "import import_ipynb\n",
    "import unittest\n",
    "from name_function import get_formatted_name"
   ]
  },
  {
   "cell_type": "code",
   "execution_count": 12,
   "id": "edaf870c",
   "metadata": {},
   "outputs": [
    {
     "name": "stderr",
     "output_type": "stream",
     "text": [
      "F\n",
      "======================================================================\n",
      "FAIL: test_first_last_name (__main__.NamesTestCase)\n",
      "Do names like 'Alfred Ojuku' work?\n",
      "----------------------------------------------------------------------\n",
      "Traceback (most recent call last):\n",
      "  File \"C:\\Users\\LENOVO\\AppData\\Local\\Temp\\ipykernel_17176\\2290998784.py\", line 7, in test_first_last_name\n",
      "    self.assertEqual(formatted_name, 'lfred Ojuku')\n",
      "AssertionError: 'Alfred Ojuku' != 'lfred Ojuku'\n",
      "- Alfred Ojuku\n",
      "? -\n",
      "+ lfred Ojuku\n",
      "\n",
      "\n",
      "----------------------------------------------------------------------\n",
      "Ran 1 test in 0.001s\n",
      "\n",
      "FAILED (failures=1)\n"
     ]
    }
   ],
   "source": [
    "class NamesTestCase(unittest.TestCase):\n",
    "    \"\"\"Tests for 'name_function code'\"\"\"\n",
    "    \n",
    "    def test_first_last_name(self):\n",
    "        \"\"\"Do names like 'Alfred Ojuku' work?\"\"\"\n",
    "        formatted_name = get_formatted_name('alfred', 'ojuku')\n",
    "        self.assertEqual(formatted_name, 'Alfred Ojuku')\n",
    "        \n",
    "if __name__ == '__main__':\n",
    "    unittest.main(argv=['first-arg-is-ignored'], exit=False)  "
   ]
  },
  {
   "cell_type": "code",
   "execution_count": 14,
   "id": "07c418e1",
   "metadata": {},
   "outputs": [
    {
     "name": "stdout",
     "output_type": "stream",
     "text": [
      "[11, 35, 75, 131]\n"
     ]
    }
   ],
   "source": [
    "def mystery(nums):\n",
    "    return list(map(lambda x: (x**2)*2+3, nums))\n",
    "\n",
    "print(mystery([2, 4, 6, 8]))"
   ]
  },
  {
   "cell_type": "code",
   "execution_count": null,
   "id": "7c27c633",
   "metadata": {},
   "outputs": [],
   "source": []
  }
 ],
 "metadata": {
  "kernelspec": {
   "display_name": "Python 3 (ipykernel)",
   "language": "python",
   "name": "python3"
  },
  "language_info": {
   "codemirror_mode": {
    "name": "ipython",
    "version": 3
   },
   "file_extension": ".py",
   "mimetype": "text/x-python",
   "name": "python",
   "nbconvert_exporter": "python",
   "pygments_lexer": "ipython3",
   "version": "3.8.5"
  }
 },
 "nbformat": 4,
 "nbformat_minor": 5
}
