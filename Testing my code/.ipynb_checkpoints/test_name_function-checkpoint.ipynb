{
 "cells": [
  {
   "cell_type": "code",
   "execution_count": 1,
   "id": "e108b6ee",
   "metadata": {},
   "outputs": [],
   "source": [
    "import import_ipynb\n",
    "import unittest\n",
    "from name_function import get_formatted_name"
   ]
  },
  {
   "cell_type": "code",
   "execution_count": 2,
   "id": "edaf870c",
   "metadata": {},
   "outputs": [
    {
     "name": "stderr",
     "output_type": "stream",
     "text": [
      "E\n",
      "======================================================================\n",
      "ERROR: C:\\Users\\LENOVO\\AppData\\Roaming\\jupyter\\runtime\\kernel-e05e039f-509a-4314-8cf9-c07087338811 (unittest.loader._FailedTest)\n",
      "----------------------------------------------------------------------\n",
      "AttributeError: module '__main__' has no attribute 'C:\\Users\\LENOVO\\AppData\\Roaming\\jupyter\\runtime\\kernel-e05e039f-509a-4314-8cf9-c07087338811'\n",
      "\n",
      "----------------------------------------------------------------------\n",
      "Ran 1 test in 0.002s\n",
      "\n",
      "FAILED (errors=1)\n"
     ]
    },
    {
     "ename": "SystemExit",
     "evalue": "True",
     "output_type": "error",
     "traceback": [
      "An exception has occurred, use %tb to see the full traceback.\n",
      "\u001b[1;31mSystemExit\u001b[0m\u001b[1;31m:\u001b[0m True\n"
     ]
    },
    {
     "name": "stderr",
     "output_type": "stream",
     "text": [
      "C:\\Users\\LENOVO\\AppData\\Roaming\\Python\\Python38\\site-packages\\IPython\\core\\interactiveshell.py:3450: UserWarning: To exit: use 'exit', 'quit', or Ctrl-D.\n",
      "  warn(\"To exit: use 'exit', 'quit', or Ctrl-D.\", stacklevel=1)\n"
     ]
    }
   ],
   "source": [
    "class NamesTestCase(unittest.TestCase):\n",
    "    \"\"\"Tests for 'name_function code'\"\"\"\n",
    "    \n",
    "    def test_first_last_name(self):\n",
    "        \"\"\"Do names like 'Alfred Ojuku' work?\"\"\"\n",
    "        formatted_name = get_formatted_name('alfred', 'ojuku')\n",
    "        self.assertEqual(first_last_name(formatted_name), 'Alfred Ojuku')\n",
    "        \n",
    "if __name__ == '__main__':\n",
    "    unittest.main()   "
   ]
  },
  {
   "cell_type": "code",
   "execution_count": null,
   "id": "07c418e1",
   "metadata": {},
   "outputs": [],
   "source": []
  }
 ],
 "metadata": {
  "kernelspec": {
   "display_name": "Python 3 (ipykernel)",
   "language": "python",
   "name": "python3"
  },
  "language_info": {
   "codemirror_mode": {
    "name": "ipython",
    "version": 3
   },
   "file_extension": ".py",
   "mimetype": "text/x-python",
   "name": "python",
   "nbconvert_exporter": "python",
   "pygments_lexer": "ipython3",
   "version": "3.8.5"
  }
 },
 "nbformat": 4,
 "nbformat_minor": 5
}
