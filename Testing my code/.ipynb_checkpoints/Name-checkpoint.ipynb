{
 "cells": [
  {
   "cell_type": "code",
   "execution_count": null,
   "id": "d42c8334",
   "metadata": {},
   "outputs": [
    {
     "name": "stdout",
     "output_type": "stream",
     "text": [
      "Enter q at any point to quit\n",
      "\n",
      "What's your first name?alfred\n",
      "\n",
      "Please give me your last name.ojuku\n",
      "\n",
      "Neatly formatted name: Alfred Ojuku\n",
      "\n",
      "What's your first name?ernest\n",
      "\n",
      "Please give me your last name.mutuku\n",
      "\n",
      "Neatly formatted name: Ernest Mutuku\n"
     ]
    }
   ],
   "source": [
    "\n",
    "from name_function import get_formatted_name\n",
    "\n",
    "print(\"Enter q at any point to quit\")\n",
    "\n",
    "while True:\n",
    "    first = input(\"\\nWhat's your first name?\")\n",
    "    if first == 'q':\n",
    "        break\n",
    "    last = input(\"\\nPlease give me your last name.\")\n",
    "    if last == 'q':\n",
    "        break\n",
    "        \n",
    "    formatted_name = get_formatted_name(first, last)\n",
    "    print(f\"\\nNeatly formatted name: {formatted_name}\")"
   ]
  },
  {
   "cell_type": "code",
   "execution_count": null,
   "id": "c4b77c84",
   "metadata": {},
   "outputs": [],
   "source": []
  }
 ],
 "metadata": {
  "kernelspec": {
   "display_name": "Python 3 (ipykernel)",
   "language": "python",
   "name": "python3"
  },
  "language_info": {
   "codemirror_mode": {
    "name": "ipython",
    "version": 3
   },
   "file_extension": ".py",
   "mimetype": "text/x-python",
   "name": "python",
   "nbconvert_exporter": "python",
   "pygments_lexer": "ipython3",
   "version": "3.8.5"
  }
 },
 "nbformat": 4,
 "nbformat_minor": 5
}
