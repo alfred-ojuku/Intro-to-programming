{
 "cells": [
  {
   "cell_type": "markdown",
   "id": "4beef373",
   "metadata": {},
   "source": [
    "## Testing a function"
   ]
  },
  {
   "cell_type": "code",
   "execution_count": null,
   "id": "ebe4e73d",
   "metadata": {},
   "outputs": [],
   "source": [
    "def get_formatted_name(first, last):\n",
    "    \"\"\"Generates a fully formatted name\"\"\"\n",
    "    fullname = f\"{first} {last}\"\n",
    "    return fullname.title()\n"
   ]
  }
 ],
 "metadata": {
  "kernelspec": {
   "display_name": "Python 3 (ipykernel)",
   "language": "python",
   "name": "python3"
  },
  "language_info": {
   "codemirror_mode": {
    "name": "ipython",
    "version": 3
   },
   "file_extension": ".py",
   "mimetype": "text/x-python",
   "name": "python",
   "nbconvert_exporter": "python",
   "pygments_lexer": "ipython3",
   "version": "3.8.5"
  }
 },
 "nbformat": 4,
 "nbformat_minor": 5
}
