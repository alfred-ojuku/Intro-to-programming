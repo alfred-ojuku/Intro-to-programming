{
 "cells": [
  {
   "cell_type": "code",
   "execution_count": 3,
   "metadata": {},
   "outputs": [
    {
     "name": "stdout",
     "output_type": "stream",
     "text": [
      "Toyota\n",
      "Bmw\n",
      "SUZUKI\n",
      "Mistubishi\n",
      "Volvo\n"
     ]
    }
   ],
   "source": [
    "cars = ['toyota', 'bmw', 'suzuki', 'mistubishi', 'volvo']\n",
    "for car in cars:\n",
    "    if car == 'suzuki':\n",
    "        print(car.upper())\n",
    "    else:\n",
    "        print(car.title())\n",
    "    "
   ]
  },
  {
   "cell_type": "code",
   "execution_count": 11,
   "metadata": {},
   "outputs": [
    {
     "name": "stdout",
     "output_type": "stream",
     "text": [
      "That is not the correct answer. Please try again\n"
     ]
    }
   ],
   "source": [
    "#numerical comparisons\n",
    "answer = 2\n",
    "if answer != 20:\n",
    "    print('That is not the correct answer. Please try again')"
   ]
  },
  {
   "cell_type": "code",
   "execution_count": 14,
   "metadata": {},
   "outputs": [
    {
     "data": {
      "text/plain": [
       "False"
      ]
     },
     "execution_count": 14,
     "metadata": {},
     "output_type": "execute_result"
    }
   ],
   "source": [
    "#requested notes\n",
    "notes = [50,100,1000]\n",
    "200 in notes"
   ]
  },
  {
   "cell_type": "code",
   "execution_count": 17,
   "metadata": {},
   "outputs": [
    {
     "name": "stdout",
     "output_type": "stream",
     "text": [
      "Kb, you can comment as you wish\n"
     ]
    }
   ],
   "source": [
    "#banned users\n",
    "banned_users = ['alfred', 'sewe','mutuku']\n",
    "user = 'kb'\n",
    "if user not in banned_users:\n",
    "    print(f\"{user.title()}, you can comment as you wish\")"
   ]
  },
  {
   "cell_type": "code",
   "execution_count": 23,
   "metadata": {},
   "outputs": [
    {
     "name": "stdout",
     "output_type": "stream",
     "text": [
      "Is car == 'audi'? I predict False\n",
      "False\n"
     ]
    }
   ],
   "source": [
    "#try it myself conditional tests\n",
    "car = 'subaru'\n",
    "print(\"Is car == 'audi'? I predict False\")\n",
    "print(car == 'audi')"
   ]
  },
  {
   "cell_type": "code",
   "execution_count": 27,
   "metadata": {},
   "outputs": [
    {
     "name": "stdout",
     "output_type": "stream",
     "text": [
      "You can vote\n"
     ]
    }
   ],
   "source": [
    "#if-else statement\n",
    "age = 18\n",
    "\n",
    "if age >= 18:\n",
    "    print('You can vote')\n",
    "else:\n",
    "    print(\"You're too young to vote\")"
   ]
  },
  {
   "cell_type": "code",
   "execution_count": 3,
   "metadata": {},
   "outputs": [
    {
     "name": "stdout",
     "output_type": "stream",
     "text": [
      "Your entry fee is Ksh 20\n"
     ]
    }
   ],
   "source": [
    "#if-elif-else statement\n",
    "age = 83\n",
    "\n",
    "if age < 4:\n",
    "    price = 0\n",
    "elif age < 18:\n",
    "    price = 25\n",
    "elif age < 65:\n",
    "    price = 40\n",
    "elif age >= 65:\n",
    "    price = 20\n",
    "print(f\"Your entry fee is Ksh {price}\")"
   ]
  },
  {
   "cell_type": "code",
   "execution_count": 55,
   "metadata": {},
   "outputs": [
    {
     "name": "stdout",
     "output_type": "stream",
     "text": [
      "Adding mushrooms.\n",
      "Adding extra cheese.\n",
      "\n",
      "Making your pizza\n"
     ]
    }
   ],
   "source": [
    "#requsted toppings\n",
    "\n",
    "requested_toppings = ['mushroom', 'extra cheese']\n",
    "\n",
    "if 'mushroom' in requested_toppings:\n",
    "    print('Adding mushrooms.')\n",
    "if 'pepperoni' in requested_toppings:\n",
    "    print('Adding pepperoni.')\n",
    "if 'extra cheese' in requested_toppings:\n",
    "    print('Adding extra cheese.')\n",
    "    \n",
    "print('\\nMaking your pizza')"
   ]
  },
  {
   "cell_type": "code",
   "execution_count": 12,
   "metadata": {},
   "outputs": [
    {
     "name": "stdout",
     "output_type": "stream",
     "text": [
      "You've just earned 5 points\n"
     ]
    }
   ],
   "source": [
    "#try it myself\n",
    "\n",
    "alien_color = 'green'\n",
    "\n",
    "if alien_color == 'green':\n",
    "    print(\"You've just earned 5 points\")\n",
    "elif alien_color == 'yellow':\n",
    "    print(\"You've just earned 10 points\")\n",
    "elif alien_color == 'red':\n",
    "    print(\"You've just earned 15 points\")"
   ]
  },
  {
   "cell_type": "code",
   "execution_count": 16,
   "metadata": {},
   "outputs": [
    {
     "name": "stdout",
     "output_type": "stream",
     "text": [
      "This person is an adult\n"
     ]
    }
   ],
   "source": [
    "#try it myself: stages of life\n",
    "\n",
    "age = 40\n",
    "\n",
    "if age < 2:\n",
    "    print(\"This person is a baby\")\n",
    "elif age < 4:\n",
    "    print(\"This person is a toddler\")\n",
    "elif age < 13:\n",
    "    print(\"This person is a kid\")\n",
    "elif age < 20:\n",
    "    print(\"This person is a teenager\")\n",
    "elif age < 65:\n",
    "    print(\"This person is an adult\")\n",
    "elif age >= 65:\n",
    "    print(\"This person is an elder\")"
   ]
  },
  {
   "cell_type": "code",
   "execution_count": 17,
   "metadata": {},
   "outputs": [
    {
     "name": "stdout",
     "output_type": "stream",
     "text": [
      "You really like apples!\n",
      "You really like mango!\n",
      "You really like guava!\n"
     ]
    }
   ],
   "source": [
    "#try it myself:favourite fruit\n",
    "f_fruits = ['apple', 'mango', 'guava']\n",
    "\n",
    "if 'apple' in f_fruits:\n",
    "    print(\"You really like apples!\")\n",
    "if 'mango' in f_fruits:\n",
    "    print(\"You really like mango!\")\n",
    "if 'guava' in f_fruits:\n",
    "    print(\"You really like guava!\")\n",
    "if 'orange' in f_fruits:\n",
    "    print(\"You really like orange!\")\n",
    "if 'watermelon' in f_fruits:\n",
    "    print(\"You really like watermelon!\")"
   ]
  },
  {
   "cell_type": "code",
   "execution_count": 19,
   "metadata": {},
   "outputs": [
    {
     "name": "stdout",
     "output_type": "stream",
     "text": [
      "Adding mushroom\n",
      "Adding pepperoni\n",
      "Adding extra cheese\n",
      "\n",
      "Finished making your pizza\n"
     ]
    }
   ],
   "source": [
    "#requested topping\n",
    "\n",
    "requested_toppings = ['mushroom', 'pepperoni', 'extra cheese']\n",
    "\n",
    "for requested_topping in requested_toppings:\n",
    "    print(f\"Adding {requested_topping}\")\n",
    "    \n",
    "print(\"\\nFinished making your pizza\")"
   ]
  },
  {
   "cell_type": "code",
   "execution_count": 24,
   "metadata": {},
   "outputs": [
    {
     "name": "stdout",
     "output_type": "stream",
     "text": [
      "Adding mushroom.\n",
      "Adding pepperoni.\n",
      "Sorry, we're out of extra cheese right now.\n",
      "\n",
      "Finished making your pizza.\n"
     ]
    }
   ],
   "source": [
    "#What if there's in no extra cheese\n",
    "\n",
    "requested_toppings = ['mushroom', 'pepperoni', 'extra cheese']\n",
    "\n",
    "for requested_topping in requested_toppings:\n",
    "    if requested_topping == 'extra cheese':\n",
    "        print(\"Sorry, we're out of extra cheese right now.\")\n",
    "    else:\n",
    "        print(f\"Adding {requested_topping}.\")\n",
    "    \n",
    "print(\"\\nFinished making your pizza.\")"
   ]
  },
  {
   "cell_type": "code",
   "execution_count": 32,
   "metadata": {},
   "outputs": [
    {
     "name": "stdout",
     "output_type": "stream",
     "text": [
      "Adding mushroom\n",
      "\n",
      "Finished making your pizza\n"
     ]
    }
   ],
   "source": [
    "#Checking if a list is empty first\n",
    "\n",
    "requested_toppings = ['mushroom']\n",
    "\n",
    "if requested_toppings:\n",
    "    for requested_topping in requested_toppings:\n",
    "         print(f\"Adding {requested_topping}\")\n",
    "    \n",
    "         print(\"\\nFinished making your pizza\")\n",
    "else:\n",
    "    print(\"Do you want plain pizza\")"
   ]
  },
  {
   "cell_type": "code",
   "execution_count": 41,
   "metadata": {},
   "outputs": [
    {
     "name": "stdout",
     "output_type": "stream",
     "text": [
      "Sorry, we don't have french fries.\n",
      "Sorry, we don't have orange.\n",
      "Sorry, we don't have pineapple.\n",
      "\n",
      "Finished making your pizza.\n"
     ]
    }
   ],
   "source": [
    "#using multiple lists\n",
    "\n",
    "availabe_toppings = ['extra cheese', 'mushroom', 'olives', 'green pepper', 'pepperoni']\n",
    "\n",
    "requested_toppings = ['french fries', 'orange', 'pineapple']\n",
    "if requested_toppings:\n",
    "    for requested_topping in requested_toppings:\n",
    "        if requested_topping in availabe_toppings:\n",
    "            print(f\"Adding {requested_topping}.\")\n",
    "        else:\n",
    "            print(f\"Sorry, we don't have {requested_topping}.\")\n",
    "    print(\"\\nFinished making your pizza.\")\n",
    "\n",
    "else:\n",
    "    print(\"Do you want plain pizza?\")"
   ]
  },
  {
   "cell_type": "code",
   "execution_count": 52,
   "metadata": {},
   "outputs": [
    {
     "name": "stdout",
     "output_type": "stream",
     "text": [
      "\n",
      "Hello Alfred, Thank you for logging in again.\n",
      "\n",
      "Hello Sewe, Thank you for logging in again.\n",
      "\n",
      "Hello Mutuku, Thank you for logging in again.\n",
      "\n",
      "Hello Kb, Thank you for logging in again.\n",
      "\n",
      "Hello admin. would you like to see a status report?\n"
     ]
    }
   ],
   "source": [
    "#try it myself (Hello admin)\n",
    "usernames = ['alfred', 'sewe', 'mutuku', 'kb', 'admin']\n",
    "\n",
    "\n",
    "for username in usernames:\n",
    "    if username == 'admin':\n",
    "        print(\"\\nHello admin. would you like to see a status report?\")\n",
    "    else:\n",
    "        print(f\"\\nHello {username.title()}, Thank you for logging in again.\")"
   ]
  },
  {
   "cell_type": "code",
   "execution_count": 53,
   "metadata": {},
   "outputs": [
    {
     "name": "stdout",
     "output_type": "stream",
     "text": [
      "We need to find some users!\n"
     ]
    }
   ],
   "source": [
    "#try it myself (No user)\n",
    "usernames = []\n",
    "\n",
    "if usernames:\n",
    "    for username in usernames:\n",
    "        if username == 'admin':\n",
    "            print(\"\\nHello admin. would you like to see a status report?\")\n",
    "        else:\n",
    "            print(f\"\\nHello {username.title()}, Thank you for logging in again.\")\n",
    "else:\n",
    "    print(\"We need to find some users!\")"
   ]
  },
  {
   "cell_type": "code",
   "execution_count": 13,
   "metadata": {},
   "outputs": [
    {
     "name": "stdout",
     "output_type": "stream",
     "text": [
      "You'll need to enter a new user name\n",
      "The username is available\n",
      "The username is available\n",
      "You'll need to enter a new user name\n",
      "The username is available\n"
     ]
    }
   ],
   "source": [
    "#checking usernames\n",
    "\n",
    "current_users = ['alfred', 'Sewe', 'mutuku', 'kb', 'Antonine']\n",
    "new_users = ['ANTONINE', 'anderson', 'wicky', 'sewe', 'mutahi']\n",
    "l_current_users = []\n",
    "l_new_users = []\n",
    "\n",
    "#convertng the current_user names into lowercase usernames\n",
    "for current_user in current_users:\n",
    "    current_user = current_user.lower()\n",
    "    l_current_users.append(current_user)\n",
    "#converting the new_user names into lowercase usernames\n",
    "for new_user in new_users:\n",
    "    new_user = new_user.lower()\n",
    "    l_new_users.append(new_user)\n",
    "\n",
    "for new_user in l_new_users:\n",
    "    if new_user in l_current_users:\n",
    "        print(\"You'll need to enter a new user name\")\n",
    "    else:\n",
    "        print(\"The username is available\")\n",
    "\n"
   ]
  },
  {
   "cell_type": "code",
   "execution_count": 9,
   "metadata": {},
   "outputs": [
    {
     "name": "stdout",
     "output_type": "stream",
     "text": [
      "['alfred', 'sewe', 'mutuku', 'kb', 'antonine']\n"
     ]
    }
   ],
   "source": [
    "current_users = ['Alfred', 'Sewe', 'Mutuku', 'kb', 'Antonine']\n",
    "l_current_users = []\n",
    "for current_user in current_users:\n",
    "    current_user = current_user.lower()\n",
    "    l_current_users.append(current_user)\n",
    "\n",
    "print(l_current_users)"
   ]
  },
  {
   "cell_type": "code",
   "execution_count": 16,
   "metadata": {},
   "outputs": [
    {
     "name": "stdout",
     "output_type": "stream",
     "text": [
      "1st\n",
      "2nd\n",
      "3rd\n",
      "4th\n",
      "5th\n",
      "6th\n",
      "7th\n",
      "8th\n",
      "9th\n"
     ]
    }
   ],
   "source": [
    "#try it myself ordinal numbers\n",
    "ordinal_numbers = []\n",
    "\n",
    "for i in range(1,10):\n",
    "    ordinal_numbers.append(i)\n",
    "\n",
    "for i in ordinal_numbers:\n",
    "    if i == 1:\n",
    "        print(f\"{i}st\")\n",
    "    elif i == 2:\n",
    "        print(f\"{i}nd\")\n",
    "    elif i == 3:\n",
    "        print(f\"{i}rd\")\n",
    "    else:\n",
    "        print(f\"{i}th\")"
   ]
  },
  {
   "cell_type": "code",
   "execution_count": null,
   "metadata": {},
   "outputs": [
    {
     "name": "stdout",
     "output_type": "stream",
     "text": [
      "What's your age?\n",
      "4\n",
      "Your ticket price is $10\n",
      "\n",
      "What's your age?\n",
      "67\n",
      "Your ticket price is $15\n",
      "\n"
     ]
    }
   ],
   "source": [
    "prompt = \"What's your age?\\n\"\n",
    "\n",
    "while True:\n",
    "    age = input(prompt)\n",
    "    age = int(age)\n",
    "    if age < 3:\n",
    "        print(f\"Your ticket price is free\\n\")\n",
    "    elif age < 12:\n",
    "        print(f\"Your ticket price is $10\\n\")\n",
    "    else:\n",
    "        print(f\"Your ticket price is $15\\n\")"
   ]
  },
  {
   "cell_type": "code",
   "execution_count": null,
   "metadata": {},
   "outputs": [],
   "source": []
  }
 ],
 "metadata": {
  "kernelspec": {
   "display_name": "Python 3",
   "language": "python",
   "name": "python3"
  },
  "language_info": {
   "codemirror_mode": {
    "name": "ipython",
    "version": 3
   },
   "file_extension": ".py",
   "mimetype": "text/x-python",
   "name": "python",
   "nbconvert_exporter": "python",
   "pygments_lexer": "ipython3",
   "version": "3.7.4"
  }
 },
 "nbformat": 4,
 "nbformat_minor": 2
}
